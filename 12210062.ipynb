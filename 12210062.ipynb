{
 "cells": [
  {
   "cell_type": "markdown",
   "metadata": {
    "id": "EbzKfmYJISJ3"
   },
   "source": [
    "<h4 align = 'center'><b>Practical Test - I, Spring 2023</b></h4>\n",
    "<h4 align = 'center'><b>CSM301 : Mathematics for Programming III</b></h4>\n",
    "<h4 align = 'center'><b>B.Sc Computer Science(AI & DS)</b></h4>\n",
    "<h4 align = 'center'><b> Year II, Semester II</b></h4>\n",
    "<h4 align = 'center'><b>Time: 2 Hours</b></h4>\n",
    "<h4 align = 'center'><b>Max. Marks: <font color = 'red'>50</font></b></h4>\n",
    "\n",
    "---\n",
    "\n",
    "*Rename the file with your Enrollment number on the top immediately on receipt of this question file. All questions are compulsory, and marks are given at the end of each question. Parts of a question should be answered together. **Please use Python programming to provide responses to the given questions**.*\n",
    "\n",
    "---"
   ]
  },
  {
   "cell_type": "markdown",
   "metadata": {
    "id": "F5R8UC3lKmGU"
   },
   "source": [
    "###**Question 1**"
   ]
  },
  {
   "cell_type": "markdown",
   "metadata": {
    "id": "u1Pvm4vMuTBO"
   },
   "source": [
    "Study the data presented below and answer the following questions:\n",
    "\n",
    "\\begin{array}{|c|c|} \\hline\n",
    "\\textbf{Staff} & 1 & 2 & 3 & 4 & 5 & 6 & 7 & 8 & 9 & 10 & 11\\\\ \\hline\n",
    "\\textbf{Age} & 25 & 26 & 25 & 23 & 30 & 29 & 23 & 34 & 40 & 30 & 51\\\\ \\hline\n",
    "\\textbf{Salary} & 15,000 & 18,000 & 16,000 & 14,000 & 15,000 & 15,000 & 12,000 & 17,000 & 20,000 & 16,000 & 60,000\\\\ \\hline\n",
    "\\end{array}\n",
    "\n",
    "1. Create a dataframe using the information provided in the table above.   <font color = \"red\"><b>[2]</b></font>\n",
    "\n",
    "2. Compute the harmonic mean, variance and mode for the columns labeled **'Age'** and **'Salary'.**   <font color = \"red\"><b>[3]</b></font>\n",
    "\n",
    "3. Create a bar chart to illustrate the salary data of the staff, and label the axis with the proper column names. <font color = \"red\"><b>[2]</b>"
   ]
  },
  {
   "cell_type": "code",
   "execution_count": 1,
   "metadata": {
    "id": "TGmI9hBFwYYs"
   },
   "outputs": [],
   "source": [
    "import pandas as pd\n",
    "import numpy as np\n",
    "import seaborn as sns\n",
    "import matplotlib.pyplot as plt"
   ]
  },
  {
   "cell_type": "code",
   "execution_count": 6,
   "metadata": {},
   "outputs": [],
   "source": [
    "d = {\n",
    "    'Staff': [1,2,3,4,5,6,7,8,9,10,11],\n",
    "    'Age': [25,26,25,23,30,29,23,34,40,30,51],\n",
    "    'Salary': [15000, 18000, 16000, 14000, 15000, 15000, 12000, 17000, 20000, 16000, 60000]\n",
    "}"
   ]
  },
  {
   "cell_type": "code",
   "execution_count": 10,
   "metadata": {},
   "outputs": [
    {
     "data": {
      "text/html": [
       "<div>\n",
       "<style scoped>\n",
       "    .dataframe tbody tr th:only-of-type {\n",
       "        vertical-align: middle;\n",
       "    }\n",
       "\n",
       "    .dataframe tbody tr th {\n",
       "        vertical-align: top;\n",
       "    }\n",
       "\n",
       "    .dataframe thead th {\n",
       "        text-align: right;\n",
       "    }\n",
       "</style>\n",
       "<table border=\"1\" class=\"dataframe\">\n",
       "  <thead>\n",
       "    <tr style=\"text-align: right;\">\n",
       "      <th></th>\n",
       "      <th>Staff</th>\n",
       "      <th>Age</th>\n",
       "      <th>Salary</th>\n",
       "    </tr>\n",
       "  </thead>\n",
       "  <tbody>\n",
       "    <tr>\n",
       "      <th>0</th>\n",
       "      <td>1</td>\n",
       "      <td>25</td>\n",
       "      <td>15000</td>\n",
       "    </tr>\n",
       "    <tr>\n",
       "      <th>1</th>\n",
       "      <td>2</td>\n",
       "      <td>26</td>\n",
       "      <td>18000</td>\n",
       "    </tr>\n",
       "    <tr>\n",
       "      <th>2</th>\n",
       "      <td>3</td>\n",
       "      <td>25</td>\n",
       "      <td>16000</td>\n",
       "    </tr>\n",
       "    <tr>\n",
       "      <th>3</th>\n",
       "      <td>4</td>\n",
       "      <td>23</td>\n",
       "      <td>14000</td>\n",
       "    </tr>\n",
       "    <tr>\n",
       "      <th>4</th>\n",
       "      <td>5</td>\n",
       "      <td>30</td>\n",
       "      <td>15000</td>\n",
       "    </tr>\n",
       "    <tr>\n",
       "      <th>5</th>\n",
       "      <td>6</td>\n",
       "      <td>29</td>\n",
       "      <td>15000</td>\n",
       "    </tr>\n",
       "    <tr>\n",
       "      <th>6</th>\n",
       "      <td>7</td>\n",
       "      <td>23</td>\n",
       "      <td>12000</td>\n",
       "    </tr>\n",
       "    <tr>\n",
       "      <th>7</th>\n",
       "      <td>8</td>\n",
       "      <td>34</td>\n",
       "      <td>17000</td>\n",
       "    </tr>\n",
       "    <tr>\n",
       "      <th>8</th>\n",
       "      <td>9</td>\n",
       "      <td>40</td>\n",
       "      <td>20000</td>\n",
       "    </tr>\n",
       "    <tr>\n",
       "      <th>9</th>\n",
       "      <td>10</td>\n",
       "      <td>30</td>\n",
       "      <td>16000</td>\n",
       "    </tr>\n",
       "    <tr>\n",
       "      <th>10</th>\n",
       "      <td>11</td>\n",
       "      <td>51</td>\n",
       "      <td>60000</td>\n",
       "    </tr>\n",
       "  </tbody>\n",
       "</table>\n",
       "</div>"
      ],
      "text/plain": [
       "    Staff  Age  Salary\n",
       "0       1   25   15000\n",
       "1       2   26   18000\n",
       "2       3   25   16000\n",
       "3       4   23   14000\n",
       "4       5   30   15000\n",
       "5       6   29   15000\n",
       "6       7   23   12000\n",
       "7       8   34   17000\n",
       "8       9   40   20000\n",
       "9      10   30   16000\n",
       "10     11   51   60000"
      ]
     },
     "execution_count": 10,
     "metadata": {},
     "output_type": "execute_result"
    }
   ],
   "source": [
    "#Coverting into dataframe\n",
    "\n",
    "df = pd.DataFrame(d)\n",
    "df"
   ]
  },
  {
   "cell_type": "code",
   "execution_count": 20,
   "metadata": {},
   "outputs": [
    {
     "name": "stdout",
     "output_type": "stream",
     "text": [
      "Harmonic mean of Age:  28.902714234790153\n",
      "Harmoni mean of Salary:  16646.296230880638\n",
      "\n",
      "Variance of age:  71.87272727272727\n",
      "Variance of salary:  181963636.3636363\n",
      "\n",
      "Mode of Age:  0    23\n",
      "1    25\n",
      "2    30\n",
      "Name: Age, dtype: int64\n",
      "Mode of Salary:  0    15000\n",
      "Name: Salary, dtype: int64\n"
     ]
    }
   ],
   "source": [
    "#Question 2\n",
    "\n",
    "# Harmonic mean\n",
    "from scipy import stats\n",
    "\n",
    "print(\"Harmonic mean of Age: \", stats.hmean(df['Age']))\n",
    "print(\"Harmoni mean of Salary: \", stats.hmean(df['Salary']))\n",
    "\n",
    "# Variance\n",
    "print()\n",
    "print(\"Variance of age: \", df['Age'].var())\n",
    "print(\"Variance of salary: \", df['Salary'].var())\n",
    "\n",
    "#Mode \n",
    "print()\n",
    "print(\"Mode of Age: \", df['Age'].mode())\n",
    "print(\"Mode of Salary: \", df['Salary'].mode())"
   ]
  },
  {
   "cell_type": "code",
   "execution_count": 32,
   "metadata": {},
   "outputs": [
    {
     "data": {
      "image/png": "[encoded data removed]",
      "text/plain": [
       "<Figure size 360x360 with 1 Axes>"
      ]
     },
     "metadata": {
      "needs_background": "light"
     },
     "output_type": "display_data"
    }
   ],
   "source": [
    "#Question3\n",
    "plt.figure(figsize=(5,5))\n",
    "sns.barplot(x= df['Staff'], y=df['Salary'])\n",
    "plt.title(\"Salary data of Staff\")\n",
    "plt.show()"
   ]
  },
  {
   "cell_type": "markdown",
   "metadata": {},
   "source": [
    "---"
   ]
  },
  {
   "cell_type": "markdown",
   "metadata": {
    "id": "L6lyex_33y0v"
   },
   "source": [
    "###**Question 2**"
   ]
  },
  {
   "cell_type": "markdown",
   "metadata": {
    "id": "swfGxgys318M"
   },
   "source": [
    "Load the built-in dataset **'healthexp'**, which is available in seaborn library and answer the following questions:\n",
    "\n",
    "1. Create a boxplot of the column **\"Spending_USD\"** and interpret the plot. <font color = \"red\"><b>[3]</b></font>\n",
    "\n",
    "2. Determine the interquartile range for the **\"Spending_USD\"** column. <font color = \"red\"><b>[2]</b></font>\n",
    "\n",
    "3.  Identify the outliers in the same column ('Spending_USD') and print them. <font color = \"red\"><b>[3]</b>"
   ]
  },
  {
   "cell_type": "code",
   "execution_count": 34,
   "metadata": {
    "id": "PZ33ffu-FJjd"
   },
   "outputs": [
    {
     "data": {
      "text/html": [
       "<div>\n",
       "<style scoped>\n",
       "    .dataframe tbody tr th:only-of-type {\n",
       "        vertical-align: middle;\n",
       "    }\n",
       "\n",
       "    .dataframe tbody tr th {\n",
       "        vertical-align: top;\n",
       "    }\n",
       "\n",
       "    .dataframe thead th {\n",
       "        text-align: right;\n",
       "    }\n",
       "</style>\n",
       "<table border=\"1\" class=\"dataframe\">\n",
       "  <thead>\n",
       "    <tr style=\"text-align: right;\">\n",
       "      <th></th>\n",
       "      <th>Year</th>\n",
       "      <th>Country</th>\n",
       "      <th>Spending_USD</th>\n",
       "      <th>Life_Expectancy</th>\n",
       "    </tr>\n",
       "  </thead>\n",
       "  <tbody>\n",
       "    <tr>\n",
       "      <th>0</th>\n",
       "      <td>1970</td>\n",
       "      <td>Germany</td>\n",
       "      <td>252.311</td>\n",
       "      <td>70.6</td>\n",
       "    </tr>\n",
       "    <tr>\n",
       "      <th>1</th>\n",
       "      <td>1970</td>\n",
       "      <td>France</td>\n",
       "      <td>192.143</td>\n",
       "      <td>72.2</td>\n",
       "    </tr>\n",
       "    <tr>\n",
       "      <th>2</th>\n",
       "      <td>1970</td>\n",
       "      <td>Great Britain</td>\n",
       "      <td>123.993</td>\n",
       "      <td>71.9</td>\n",
       "    </tr>\n",
       "    <tr>\n",
       "      <th>3</th>\n",
       "      <td>1970</td>\n",
       "      <td>Japan</td>\n",
       "      <td>150.437</td>\n",
       "      <td>72.0</td>\n",
       "    </tr>\n",
       "    <tr>\n",
       "      <th>4</th>\n",
       "      <td>1970</td>\n",
       "      <td>USA</td>\n",
       "      <td>326.961</td>\n",
       "      <td>70.9</td>\n",
       "    </tr>\n",
       "  </tbody>\n",
       "</table>\n",
       "</div>"
      ],
      "text/plain": [
       "   Year        Country  Spending_USD  Life_Expectancy\n",
       "0  1970        Germany       252.311             70.6\n",
       "1  1970         France       192.143             72.2\n",
       "2  1970  Great Britain       123.993             71.9\n",
       "3  1970          Japan       150.437             72.0\n",
       "4  1970            USA       326.961             70.9"
      ]
     },
     "execution_count": 34,
     "metadata": {},
     "output_type": "execute_result"
    }
   ],
   "source": [
    "#Question1\n",
    "h = sns.load_dataset('healthexp')\n",
    "h.head()"
   ]
  },
  {
   "cell_type": "code",
   "execution_count": 42,
   "metadata": {},
   "outputs": [
    {
     "name": "stderr",
     "output_type": "stream",
     "text": [
      "C:\\Users\\Kuenzang\\anaconda3\\lib\\site-packages\\seaborn\\_decorators.py:36: FutureWarning: Pass the following variable as a keyword arg: x. From version 0.12, the only valid positional argument will be `data`, and passing other arguments without an explicit keyword will result in an error or misinterpretation.\n",
      "  warnings.warn(\n"
     ]
    },
    {
     "data": {
      "text/plain": [
       "Text(0.5, 1.0, 'Spending USD')"
      ]
     },
     "execution_count": 42,
     "metadata": {},
     "output_type": "execute_result"
    },
    {
     "data": {
      "image/png": "[encoded data removed]",
      "text/plain": [
       "<Figure size 360x360 with 1 Axes>"
      ]
     },
     "metadata": {
      "needs_background": "light"
     },
     "output_type": "display_data"
    }
   ],
   "source": [
    "plt.figure(figsize=(5,5))\n",
    "sns.boxplot(h['Spending_USD'], orient='h')\n",
    "plt.title(\"Spending USD\")\n"
   ]
  },
  {
   "cell_type": "markdown",
   "metadata": {},
   "source": [
    "#### The above boxplot detect the outlier of data in Spending_UD column. "
   ]
  },
  {
   "cell_type": "code",
   "execution_count": 44,
   "metadata": {},
   "outputs": [
    {
     "name": "stdout",
     "output_type": "stream",
     "text": [
      "Inter quartile range for the Spending_USD columns:  3017.253\n"
     ]
    }
   ],
   "source": [
    "#Question 2\n",
    "Q1 = h['Spending_USD'].quantile(0.25)\n",
    "Q3 = h['Spending_USD'].quantile(0.75)\n",
    "\n",
    "IQR = Q3 - Q1\n",
    "print(\"Inter quartile range for the Spending_USD columns: \", IQR)"
   ]
  },
  {
   "cell_type": "code",
   "execution_count": 47,
   "metadata": {},
   "outputs": [
    {
     "name": "stdout",
     "output_type": "stream",
     "text": [
      "The outlieres are:  8581.4895 ,  -3487.5225\n"
     ]
    }
   ],
   "source": [
    "#Question3\n",
    "#Identifying the outlier\n",
    "lowelimit = Q1-1.5*IQR\n",
    "upperlimit = Q3+1.5*IQR\n",
    "print(\"The outlieres are: \", upperlimit, \", \", lowelimit)"
   ]
  },
  {
   "cell_type": "markdown",
   "metadata": {},
   "source": [
    "---"
   ]
  },
  {
   "cell_type": "markdown",
   "metadata": {
    "id": "J6Oi2wSI9Fav"
   },
   "source": [
    "###**Question 3**"
   ]
  },
  {
   "cell_type": "markdown",
   "metadata": {
    "id": "Mt-73XlTFdsM"
   },
   "source": [
    "Download the dataset from the link [https://drive.google.com/file/d/1bOfUpJxDeOdzq7njcY5Qo4_6dmfzuVHL/view?usp=sharing]. The dataset includes information on Bhutan's monthly rainfall from $1901$ to $2018$. Calculate the probability of a flood occurring when the amount of rainfall in June exceeds $500$ mm. <font color = \"red\"><b>[4]</b>"
   ]
  },
  {
   "cell_type": "code",
   "execution_count": 50,
   "metadata": {
    "id": "_f1yO_3aHO9y"
   },
   "outputs": [
    {
     "data": {
      "text/html": [
       "<div>\n",
       "<style scoped>\n",
       "    .dataframe tbody tr th:only-of-type {\n",
       "        vertical-align: middle;\n",
       "    }\n",
       "\n",
       "    .dataframe tbody tr th {\n",
       "        vertical-align: top;\n",
       "    }\n",
       "\n",
       "    .dataframe thead th {\n",
       "        text-align: right;\n",
       "    }\n",
       "</style>\n",
       "<table border=\"1\" class=\"dataframe\">\n",
       "  <thead>\n",
       "    <tr style=\"text-align: right;\">\n",
       "      <th></th>\n",
       "      <th>COUNTRY</th>\n",
       "      <th>YEAR</th>\n",
       "      <th>JAN</th>\n",
       "      <th>FEB</th>\n",
       "      <th>MAR</th>\n",
       "      <th>APR</th>\n",
       "      <th>MAY</th>\n",
       "      <th>JUN</th>\n",
       "      <th>JUL</th>\n",
       "      <th>AUG</th>\n",
       "      <th>SEP</th>\n",
       "      <th>OCT</th>\n",
       "      <th>NOV</th>\n",
       "      <th>DEC</th>\n",
       "      <th>ANNUAL RAINFALL</th>\n",
       "      <th>FLOODS</th>\n",
       "    </tr>\n",
       "  </thead>\n",
       "  <tbody>\n",
       "    <tr>\n",
       "      <th>0</th>\n",
       "      <td>BHUTAN</td>\n",
       "      <td>1901</td>\n",
       "      <td>28.7</td>\n",
       "      <td>44.7</td>\n",
       "      <td>51.6</td>\n",
       "      <td>160.0</td>\n",
       "      <td>174.7</td>\n",
       "      <td>824.6</td>\n",
       "      <td>743.0</td>\n",
       "      <td>357.5</td>\n",
       "      <td>197.7</td>\n",
       "      <td>266.9</td>\n",
       "      <td>350.8</td>\n",
       "      <td>48.4</td>\n",
       "      <td>3248.6</td>\n",
       "      <td>YES</td>\n",
       "    </tr>\n",
       "    <tr>\n",
       "      <th>1</th>\n",
       "      <td>BHUTAN</td>\n",
       "      <td>1902</td>\n",
       "      <td>6.7</td>\n",
       "      <td>2.6</td>\n",
       "      <td>57.3</td>\n",
       "      <td>83.9</td>\n",
       "      <td>134.5</td>\n",
       "      <td>390.9</td>\n",
       "      <td>1205.0</td>\n",
       "      <td>315.8</td>\n",
       "      <td>491.6</td>\n",
       "      <td>358.4</td>\n",
       "      <td>158.3</td>\n",
       "      <td>121.5</td>\n",
       "      <td>3326.6</td>\n",
       "      <td>YES</td>\n",
       "    </tr>\n",
       "    <tr>\n",
       "      <th>2</th>\n",
       "      <td>BHUTAN</td>\n",
       "      <td>1903</td>\n",
       "      <td>3.2</td>\n",
       "      <td>18.6</td>\n",
       "      <td>3.1</td>\n",
       "      <td>83.6</td>\n",
       "      <td>249.7</td>\n",
       "      <td>558.6</td>\n",
       "      <td>1022.5</td>\n",
       "      <td>420.2</td>\n",
       "      <td>341.8</td>\n",
       "      <td>354.1</td>\n",
       "      <td>157.0</td>\n",
       "      <td>59.0</td>\n",
       "      <td>3271.2</td>\n",
       "      <td>YES</td>\n",
       "    </tr>\n",
       "    <tr>\n",
       "      <th>3</th>\n",
       "      <td>BHUTAN</td>\n",
       "      <td>1904</td>\n",
       "      <td>23.7</td>\n",
       "      <td>3.0</td>\n",
       "      <td>32.2</td>\n",
       "      <td>71.5</td>\n",
       "      <td>235.7</td>\n",
       "      <td>1098.2</td>\n",
       "      <td>725.5</td>\n",
       "      <td>351.8</td>\n",
       "      <td>222.7</td>\n",
       "      <td>328.1</td>\n",
       "      <td>33.9</td>\n",
       "      <td>3.3</td>\n",
       "      <td>3129.7</td>\n",
       "      <td>YES</td>\n",
       "    </tr>\n",
       "    <tr>\n",
       "      <th>4</th>\n",
       "      <td>BHUTAN</td>\n",
       "      <td>1905</td>\n",
       "      <td>1.2</td>\n",
       "      <td>22.3</td>\n",
       "      <td>9.4</td>\n",
       "      <td>105.9</td>\n",
       "      <td>263.3</td>\n",
       "      <td>850.2</td>\n",
       "      <td>520.5</td>\n",
       "      <td>293.6</td>\n",
       "      <td>217.2</td>\n",
       "      <td>383.5</td>\n",
       "      <td>74.4</td>\n",
       "      <td>0.2</td>\n",
       "      <td>2741.6</td>\n",
       "      <td>NO</td>\n",
       "    </tr>\n",
       "  </tbody>\n",
       "</table>\n",
       "</div>"
      ],
      "text/plain": [
       "  COUNTRY  YEAR   JAN   FEB   MAR    APR    MAY     JUN     JUL    AUG    SEP  \\\n",
       "0  BHUTAN  1901  28.7  44.7  51.6  160.0  174.7   824.6   743.0  357.5  197.7   \n",
       "1  BHUTAN  1902   6.7   2.6  57.3   83.9  134.5   390.9  1205.0  315.8  491.6   \n",
       "2  BHUTAN  1903   3.2  18.6   3.1   83.6  249.7   558.6  1022.5  420.2  341.8   \n",
       "3  BHUTAN  1904  23.7   3.0  32.2   71.5  235.7  1098.2   725.5  351.8  222.7   \n",
       "4  BHUTAN  1905   1.2  22.3   9.4  105.9  263.3   850.2   520.5  293.6  217.2   \n",
       "\n",
       "     OCT    NOV    DEC   ANNUAL RAINFALL FLOODS  \n",
       "0  266.9  350.8   48.4            3248.6    YES  \n",
       "1  358.4  158.3  121.5            3326.6    YES  \n",
       "2  354.1  157.0   59.0            3271.2    YES  \n",
       "3  328.1   33.9    3.3            3129.7    YES  \n",
       "4  383.5   74.4    0.2            2741.6     NO  "
      ]
     },
     "execution_count": 50,
     "metadata": {},
     "output_type": "execute_result"
    }
   ],
   "source": [
    "rfall = pd.read_csv(\"monthly_rainfall_bhutan.csv\")\n",
    "rfall.head()"
   ]
  },
  {
   "cell_type": "code",
   "execution_count": 51,
   "metadata": {},
   "outputs": [
    {
     "data": {
      "text/plain": [
       "118"
      ]
     },
     "execution_count": 51,
     "metadata": {},
     "output_type": "execute_result"
    }
   ],
   "source": [
    "len(rfall)"
   ]
  },
  {
   "cell_type": "code",
   "execution_count": 56,
   "metadata": {},
   "outputs": [
    {
     "data": {
      "text/html": [
       "<div>\n",
       "<style scoped>\n",
       "    .dataframe tbody tr th:only-of-type {\n",
       "        vertical-align: middle;\n",
       "    }\n",
       "\n",
       "    .dataframe tbody tr th {\n",
       "        vertical-align: top;\n",
       "    }\n",
       "\n",
       "    .dataframe thead th {\n",
       "        text-align: right;\n",
       "    }\n",
       "</style>\n",
       "<table border=\"1\" class=\"dataframe\">\n",
       "  <thead>\n",
       "    <tr style=\"text-align: right;\">\n",
       "      <th></th>\n",
       "      <th>flood_yes</th>\n",
       "      <th>june_exceed_500</th>\n",
       "      <th>count</th>\n",
       "    </tr>\n",
       "  </thead>\n",
       "  <tbody>\n",
       "    <tr>\n",
       "      <th>0</th>\n",
       "      <td>1</td>\n",
       "      <td>1</td>\n",
       "      <td>1</td>\n",
       "    </tr>\n",
       "    <tr>\n",
       "      <th>1</th>\n",
       "      <td>1</td>\n",
       "      <td>0</td>\n",
       "      <td>1</td>\n",
       "    </tr>\n",
       "    <tr>\n",
       "      <th>2</th>\n",
       "      <td>1</td>\n",
       "      <td>1</td>\n",
       "      <td>1</td>\n",
       "    </tr>\n",
       "    <tr>\n",
       "      <th>3</th>\n",
       "      <td>1</td>\n",
       "      <td>1</td>\n",
       "      <td>1</td>\n",
       "    </tr>\n",
       "    <tr>\n",
       "      <th>4</th>\n",
       "      <td>0</td>\n",
       "      <td>1</td>\n",
       "      <td>1</td>\n",
       "    </tr>\n",
       "  </tbody>\n",
       "</table>\n",
       "</div>"
      ],
      "text/plain": [
       "   flood_yes  june_exceed_500  count\n",
       "0          1                1      1\n",
       "1          1                0      1\n",
       "2          1                1      1\n",
       "3          1                1      1\n",
       "4          0                1      1"
      ]
     },
     "execution_count": 56,
     "metadata": {},
     "output_type": "execute_result"
    }
   ],
   "source": [
    "# P_A be the probability of flood ocuring\n",
    "#P_B be the probability rainfall in june exceed 500mm\n",
    "#P(A|B) = P(AnB)/(p_B)\n",
    "\n",
    "rfall['flood_yes'] = np.where(rfall['FLOODS'] == 'YES', 1, 0)\n",
    "rfall['june_exceed_500'] = np.where(rfall['JUN'] > 500,1,0)\n",
    "rfall['count'] = 1\n",
    "\n",
    "rdf = rfall[['flood_yes', 'june_exceed_500', 'count']]\n",
    "rdf.head()"
   ]
  },
  {
   "cell_type": "code",
   "execution_count": 57,
   "metadata": {},
   "outputs": [
    {
     "data": {
      "text/html": [
       "<div>\n",
       "<style scoped>\n",
       "    .dataframe tbody tr th:only-of-type {\n",
       "        vertical-align: middle;\n",
       "    }\n",
       "\n",
       "    .dataframe tbody tr th {\n",
       "        vertical-align: top;\n",
       "    }\n",
       "\n",
       "    .dataframe thead th {\n",
       "        text-align: right;\n",
       "    }\n",
       "</style>\n",
       "<table border=\"1\" class=\"dataframe\">\n",
       "  <thead>\n",
       "    <tr style=\"text-align: right;\">\n",
       "      <th>june_exceed_500</th>\n",
       "      <th>0</th>\n",
       "      <th>1</th>\n",
       "    </tr>\n",
       "    <tr>\n",
       "      <th>flood_yes</th>\n",
       "      <th></th>\n",
       "      <th></th>\n",
       "    </tr>\n",
       "  </thead>\n",
       "  <tbody>\n",
       "    <tr>\n",
       "      <th>0</th>\n",
       "      <td>19</td>\n",
       "      <td>39</td>\n",
       "    </tr>\n",
       "    <tr>\n",
       "      <th>1</th>\n",
       "      <td>6</td>\n",
       "      <td>54</td>\n",
       "    </tr>\n",
       "  </tbody>\n",
       "</table>\n",
       "</div>"
      ],
      "text/plain": [
       "june_exceed_500   0   1\n",
       "flood_yes              \n",
       "0                19  39\n",
       "1                 6  54"
      ]
     },
     "execution_count": 57,
     "metadata": {},
     "output_type": "execute_result"
    }
   ],
   "source": [
    "pd.pivot_table(rdf, values='count', index=rdf['flood_yes'], columns=rdf['june_exceed_500'],\n",
    "              aggfunc=np.size, fill_value=0)"
   ]
  },
  {
   "cell_type": "code",
   "execution_count": 125,
   "metadata": {},
   "outputs": [
    {
     "name": "stdout",
     "output_type": "stream",
     "text": [
      "The probability of a flood occurring when the amount of rainfall in June exceeds  500mm:  0.5806451612903226 or 58.06%\n"
     ]
    }
   ],
   "source": [
    "P_B = (39+54)/(19+39+6+54)\n",
    "P_B\n",
    "P_AnB = 54/(19+39+6+54)\n",
    "P_AnB\n",
    "\n",
    "p_AB = P_AnB/P_B\n",
    "print(\"The probability of a flood occurring when the amount of rainfall in June exceeds  500mm: \", p_AB, \"or 58.06%\", )"
   ]
  },
  {
   "cell_type": "markdown",
   "metadata": {
    "id": "UbLKGyg8IsWI"
   },
   "source": [
    "###**Question 4**"
   ]
  },
  {
   "cell_type": "markdown",
   "metadata": {
    "id": "ObuEJEzUIwWJ"
   },
   "source": [
    "You have three bags that each contain $100$ marbles:\n",
    "\n",
    "* Bag $1$ has $75$ red and $25$ blue marbles;\n",
    "* Bag $2$ has $60$ red and $40$ blue marbles;\n",
    "* Bag $3$ has $45$ red and $55$ blue marbles.\n",
    "\n",
    "You choose one of the bags at random and then pick a marble from the chosen bag, also at random. What is the probability that the chosen marble is blue? <font color = \"red\"><b>[4]</b>"
   ]
  },
  {
   "cell_type": "code",
   "execution_count": 137,
   "metadata": {
    "id": "bm8TeDOgKBWq"
   },
   "outputs": [
    {
     "name": "stdout",
     "output_type": "stream",
     "text": [
      "Bag1:  0.33333333333333326\n",
      "Bag2:  0.3333333333333333\n",
      "Bag3:  0.33333333333333326\n",
      "The probability that the chosen marble is blue:  0.037037037037037014\n"
     ]
    }
   ],
   "source": [
    "# P_A be choosing one of the bag at random\n",
    "#P_AB be picking a marble from choose bag\n",
    "#P_B be chosen marble is blue\n",
    "#For bag 1\n",
    "P_A = 1/3\n",
    "P_B = 25/100\n",
    "#P_AB = P_AnB/P_B\n",
    "P_AB = (1/3*25/100)/(25/100)\n",
    "print(\"Bag1: \",P_AB)\n",
    "\n",
    " # For bag2\n",
    "P_A1 = 1/3\n",
    "P_B1 = 40/100\n",
    "#P_AB = P_AnB/P_B\n",
    "P_AB1 = ((1/3)*(40/100))/(40/100)\n",
    "print(\"Bag2: \", P_AB1)\n",
    "\n",
    " # For bag3\n",
    "P_A2 = 1/3\n",
    "P_B2 = 55/100\n",
    "#P_AB = P_AnB/P_B\n",
    "P_AB2 = (1/3*55/100)/(55/100)\n",
    "print(\"Bag3: \", P_AB2)\n",
    "\n",
    "print (\"The probability that the chosen marble is blue: \", P_AB*P_AB1*P_AB2)"
   ]
  },
  {
   "cell_type": "markdown",
   "metadata": {},
   "source": [
    "---"
   ]
  },
  {
   "cell_type": "markdown",
   "metadata": {
    "id": "H3NhgLasKK1Z"
   },
   "source": [
    "###**Question 5**"
   ]
  },
  {
   "cell_type": "markdown",
   "metadata": {
    "id": "bpdh1n84KR1l"
   },
   "source": [
    "A coin is either fair or biased, with a $75\\%$ chance of being biased. The biased coin comes up heads with a probability of $0.6$, while the fair coin comes up heads with a probability of $0.5$. If we toss the coin and it comes up heads, what is the probability that it is the biased coin? <font color = \"red\"><b>[4]</b>"
   ]
  },
  {
   "cell_type": "code",
   "execution_count": 145,
   "metadata": {
    "id": "-emUA4a7clDg"
   },
   "outputs": [
    {
     "name": "stdout",
     "output_type": "stream",
     "text": [
      "The probability that it is the biased coin:  0.9583333333333334\n"
     ]
    }
   ],
   "source": [
    "P_A = ((0.25*0.5)/0.6) + ((0.75*0.5)/0.5)\n",
    "P_A\n",
    "print(\"The probability that it is the biased coin: \", P_A)"
   ]
  },
  {
   "cell_type": "markdown",
   "metadata": {
    "id": "xSGvVPGPlyuW"
   },
   "source": [
    "### **Question 6**"
   ]
  },
  {
   "cell_type": "markdown",
   "metadata": {
    "id": "ficOl9wRl1Z4"
   },
   "source": [
    "Assume there are six multiple choice questions in a brief quiz. Each question contains four possible responses, any of which is correct. On every question, a student makes a guess.\n",
    "1. Find the probability that student gets exactly 4 questions right. <font color = \"red\"><b>[3]</b></font>\n",
    "\n",
    "2. Find the mean, variance, and standard deviation of the distribution.  <font color = \"red\"><b>[3]</b>"
   ]
  },
  {
   "cell_type": "code",
   "execution_count": 71,
   "metadata": {
    "id": "Wa6hbSRImDXQ"
   },
   "outputs": [
    {
     "name": "stdout",
     "output_type": "stream",
     "text": [
      "The probability that student gets exactly 4 questions right:  0.03295898437499997 or  3.3 %\n"
     ]
    }
   ],
   "source": [
    "from scipy.stats import binom\n",
    "#Question1\n",
    "# p = 1/4 = 0.25 probability of getting correct answer\n",
    "\n",
    "p = binom.pmf(n = 6, k = 4, p = 0.25)\n",
    "\n",
    "print(\"The probability that student gets exactly 4 questions right: \", p , 'or ', 3.3, \"%\")"
   ]
  },
  {
   "cell_type": "code",
   "execution_count": 72,
   "metadata": {},
   "outputs": [
    {
     "name": "stdout",
     "output_type": "stream",
     "text": [
      "The mean of the distribution:  1.5\n",
      "\n",
      "The variance of the distribution:  1.125\n",
      "\n",
      "The standard deviation of the distribution:  1.0606601717798212\n"
     ]
    }
   ],
   "source": [
    "#Question2\n",
    "print( \"The mean of the distribution: \", binom.mean(n = 6, p = 0.25))\n",
    "print()\n",
    "print(\"The variance of the distribution: \", binom.var(n = 6, p = 0.25))\n",
    "print()\n",
    "print(\"The standard deviation of the distribution: \", binom.std(n = 6, p = 0.25))"
   ]
  },
  {
   "cell_type": "markdown",
   "metadata": {
    "id": "W09wKYGjcj9-"
   },
   "source": [
    "###**Question 7**"
   ]
  },
  {
   "cell_type": "markdown",
   "metadata": {
    "id": "i-4RG0KRcvCh"
   },
   "source": [
    "The continuous random variable $X$ has probability density function $f(x)$, given by\n",
    "\n",
    "$$f(x) = \\begin{cases}\n",
    "  \\frac{2}{9}(5-x),  & 2\\leq x\\leq 5 \\\\\n",
    "  0, & \\text{otherwise}\n",
    "\\end{cases}$$\n",
    "\n",
    "Find the $E(X^2), Var(X)$, and standard deviation of $X$.  <font color = \"red\"><b>[1.5 + 2 + 0.5]</b>"
   ]
  },
  {
   "cell_type": "code",
   "execution_count": 89,
   "metadata": {
    "id": "7TBssclqkOlv"
   },
   "outputs": [
    {
     "name": "stdout",
     "output_type": "stream",
     "text": [
      "𝐸(𝑋2):  9.50000000000000\n",
      "\n",
      "Variance of X:  0.500000000000002\n",
      "\n",
      "Standard deviation of X:  0.707106781186549\n"
     ]
    }
   ],
   "source": [
    "import sympy as smp\n",
    "\n",
    "x = smp.Symbol('x')\n",
    "\n",
    "fx = (2/9)*(5-x)\n",
    "px = smp.integrate(fx,(x,2,5))\n",
    "# print(px)\n",
    "\n",
    "fx1 = x* (2/9)*(5-x)\n",
    "EX = smp.integrate(fx1, (x, 2,5))\n",
    "EX\n",
    "\n",
    "fx2 = (x**2)*(2/9)*(5-x)\n",
    "EX2 = smp.integrate(fx2,(x,2,5))\n",
    "print(\"𝐸(𝑋2): \", EX2 )\n",
    "print()\n",
    "\n",
    "#Variance\n",
    "var = EX2 - (EX)**2\n",
    "\n",
    "print(\"Variance of X: \", var)\n",
    "print()\n",
    "\n",
    "#standard deviation\n",
    "sd = (var)**(0.5)\n",
    "print(\"Standard deviation of X: \", sd)"
   ]
  },
  {
   "cell_type": "markdown",
   "metadata": {
    "id": "LtvwxD6EnqAg"
   },
   "source": [
    "###**Question 8**"
   ]
  },
  {
   "cell_type": "markdown",
   "metadata": {
    "id": "6kC-Op9entmT"
   },
   "source": [
    "Load the built-in dataset **'geyser'**, which is available in seaborn library and answer the following questions:\n",
    "\n",
    "1.   Determine the correlation coefficient for the columns **'duration'** and **'waiting'**. <font color = \"red\"><b>[1.5]</b></font>\n",
    "2.   Visualize the correlation between the two colmuns using heatmap and display the correlation score. <font color = \"red\"><b>[1.5]</b></font>\n",
    "\n",
    "3. Calculate the covariance for every possible pair of columns within a dataset. <font color = \"red\"><b>[2]</b>"
   ]
  },
  {
   "cell_type": "code",
   "execution_count": 91,
   "metadata": {
    "id": "4SnkuBsJpe2P"
   },
   "outputs": [
    {
     "data": {
      "text/html": [
       "<div>\n",
       "<style scoped>\n",
       "    .dataframe tbody tr th:only-of-type {\n",
       "        vertical-align: middle;\n",
       "    }\n",
       "\n",
       "    .dataframe tbody tr th {\n",
       "        vertical-align: top;\n",
       "    }\n",
       "\n",
       "    .dataframe thead th {\n",
       "        text-align: right;\n",
       "    }\n",
       "</style>\n",
       "<table border=\"1\" class=\"dataframe\">\n",
       "  <thead>\n",
       "    <tr style=\"text-align: right;\">\n",
       "      <th></th>\n",
       "      <th>duration</th>\n",
       "      <th>waiting</th>\n",
       "      <th>kind</th>\n",
       "    </tr>\n",
       "  </thead>\n",
       "  <tbody>\n",
       "    <tr>\n",
       "      <th>0</th>\n",
       "      <td>3.600</td>\n",
       "      <td>79</td>\n",
       "      <td>long</td>\n",
       "    </tr>\n",
       "    <tr>\n",
       "      <th>1</th>\n",
       "      <td>1.800</td>\n",
       "      <td>54</td>\n",
       "      <td>short</td>\n",
       "    </tr>\n",
       "    <tr>\n",
       "      <th>2</th>\n",
       "      <td>3.333</td>\n",
       "      <td>74</td>\n",
       "      <td>long</td>\n",
       "    </tr>\n",
       "    <tr>\n",
       "      <th>3</th>\n",
       "      <td>2.283</td>\n",
       "      <td>62</td>\n",
       "      <td>short</td>\n",
       "    </tr>\n",
       "    <tr>\n",
       "      <th>4</th>\n",
       "      <td>4.533</td>\n",
       "      <td>85</td>\n",
       "      <td>long</td>\n",
       "    </tr>\n",
       "  </tbody>\n",
       "</table>\n",
       "</div>"
      ],
      "text/plain": [
       "   duration  waiting   kind\n",
       "0     3.600       79   long\n",
       "1     1.800       54  short\n",
       "2     3.333       74   long\n",
       "3     2.283       62  short\n",
       "4     4.533       85   long"
      ]
     },
     "execution_count": 91,
     "metadata": {},
     "output_type": "execute_result"
    }
   ],
   "source": [
    "gs = sns.load_dataset('geyser')\n",
    "gs.head()"
   ]
  },
  {
   "cell_type": "code",
   "execution_count": 95,
   "metadata": {},
   "outputs": [
    {
     "data": {
      "text/html": [
       "<div>\n",
       "<style scoped>\n",
       "    .dataframe tbody tr th:only-of-type {\n",
       "        vertical-align: middle;\n",
       "    }\n",
       "\n",
       "    .dataframe tbody tr th {\n",
       "        vertical-align: top;\n",
       "    }\n",
       "\n",
       "    .dataframe thead th {\n",
       "        text-align: right;\n",
       "    }\n",
       "</style>\n",
       "<table border=\"1\" class=\"dataframe\">\n",
       "  <thead>\n",
       "    <tr style=\"text-align: right;\">\n",
       "      <th></th>\n",
       "      <th>duration</th>\n",
       "      <th>waiting</th>\n",
       "    </tr>\n",
       "  </thead>\n",
       "  <tbody>\n",
       "    <tr>\n",
       "      <th>0</th>\n",
       "      <td>3.600</td>\n",
       "      <td>79</td>\n",
       "    </tr>\n",
       "    <tr>\n",
       "      <th>1</th>\n",
       "      <td>1.800</td>\n",
       "      <td>54</td>\n",
       "    </tr>\n",
       "    <tr>\n",
       "      <th>2</th>\n",
       "      <td>3.333</td>\n",
       "      <td>74</td>\n",
       "    </tr>\n",
       "    <tr>\n",
       "      <th>3</th>\n",
       "      <td>2.283</td>\n",
       "      <td>62</td>\n",
       "    </tr>\n",
       "    <tr>\n",
       "      <th>4</th>\n",
       "      <td>4.533</td>\n",
       "      <td>85</td>\n",
       "    </tr>\n",
       "  </tbody>\n",
       "</table>\n",
       "</div>"
      ],
      "text/plain": [
       "   duration  waiting\n",
       "0     3.600       79\n",
       "1     1.800       54\n",
       "2     3.333       74\n",
       "3     2.283       62\n",
       "4     4.533       85"
      ]
     },
     "execution_count": 95,
     "metadata": {},
     "output_type": "execute_result"
    }
   ],
   "source": [
    "gdf = gs.select_dtypes(include=(['int', 'float']))\n",
    "gdf.head()"
   ]
  },
  {
   "cell_type": "code",
   "execution_count": 97,
   "metadata": {},
   "outputs": [
    {
     "data": {
      "text/html": [
       "<div>\n",
       "<style scoped>\n",
       "    .dataframe tbody tr th:only-of-type {\n",
       "        vertical-align: middle;\n",
       "    }\n",
       "\n",
       "    .dataframe tbody tr th {\n",
       "        vertical-align: top;\n",
       "    }\n",
       "\n",
       "    .dataframe thead th {\n",
       "        text-align: right;\n",
       "    }\n",
       "</style>\n",
       "<table border=\"1\" class=\"dataframe\">\n",
       "  <thead>\n",
       "    <tr style=\"text-align: right;\">\n",
       "      <th></th>\n",
       "      <th>duration</th>\n",
       "      <th>waiting</th>\n",
       "    </tr>\n",
       "  </thead>\n",
       "  <tbody>\n",
       "    <tr>\n",
       "      <th>duration</th>\n",
       "      <td>1.000000</td>\n",
       "      <td>0.900811</td>\n",
       "    </tr>\n",
       "    <tr>\n",
       "      <th>waiting</th>\n",
       "      <td>0.900811</td>\n",
       "      <td>1.000000</td>\n",
       "    </tr>\n",
       "  </tbody>\n",
       "</table>\n",
       "</div>"
      ],
      "text/plain": [
       "          duration   waiting\n",
       "duration  1.000000  0.900811\n",
       "waiting   0.900811  1.000000"
      ]
     },
     "execution_count": 97,
     "metadata": {},
     "output_type": "execute_result"
    }
   ],
   "source": [
    "#Question1\n",
    "\n",
    "gdf.corr(method = 'pearson')"
   ]
  },
  {
   "cell_type": "code",
   "execution_count": 98,
   "metadata": {},
   "outputs": [
    {
     "data": {
      "text/plain": [
       "<AxesSubplot:>"
      ]
     },
     "execution_count": 98,
     "metadata": {},
     "output_type": "execute_result"
    },
    {
     "data": {
      "image/png": "[encoded data removed]",
      "text/plain": [
       "<Figure size 432x288 with 2 Axes>"
      ]
     },
     "metadata": {
      "needs_background": "light"
     },
     "output_type": "display_data"
    }
   ],
   "source": [
    "#question2\n",
    "\n",
    "sns.heatmap(gdf.corr(method = 'pearson'), annot=True, cmap='coolwarm')"
   ]
  },
  {
   "cell_type": "code",
   "execution_count": 101,
   "metadata": {},
   "outputs": [
    {
     "data": {
      "text/html": [
       "<div>\n",
       "<style scoped>\n",
       "    .dataframe tbody tr th:only-of-type {\n",
       "        vertical-align: middle;\n",
       "    }\n",
       "\n",
       "    .dataframe tbody tr th {\n",
       "        vertical-align: top;\n",
       "    }\n",
       "\n",
       "    .dataframe thead th {\n",
       "        text-align: right;\n",
       "    }\n",
       "</style>\n",
       "<table border=\"1\" class=\"dataframe\">\n",
       "  <thead>\n",
       "    <tr style=\"text-align: right;\">\n",
       "      <th></th>\n",
       "      <th>duration</th>\n",
       "      <th>waiting</th>\n",
       "    </tr>\n",
       "  </thead>\n",
       "  <tbody>\n",
       "    <tr>\n",
       "      <th>duration</th>\n",
       "      <td>1.302728</td>\n",
       "      <td>13.977808</td>\n",
       "    </tr>\n",
       "    <tr>\n",
       "      <th>waiting</th>\n",
       "      <td>13.977808</td>\n",
       "      <td>184.823312</td>\n",
       "    </tr>\n",
       "  </tbody>\n",
       "</table>\n",
       "</div>"
      ],
      "text/plain": [
       "           duration     waiting\n",
       "duration   1.302728   13.977808\n",
       "waiting   13.977808  184.823312"
      ]
     },
     "execution_count": 101,
     "metadata": {},
     "output_type": "execute_result"
    }
   ],
   "source": [
    "#Question3\n",
    "gs.cov()"
   ]
  },
  {
   "cell_type": "markdown",
   "metadata": {
    "id": "iCShmU3tpDar"
   },
   "source": [
    "###**Question 9**"
   ]
  },
  {
   "cell_type": "markdown",
   "metadata": {
    "id": "teQo9jiwquUO"
   },
   "source": [
    "A company produces boxes of cereal with a weight that follows a uniform distribution between $10$ ounces and $12$ ounces. What is the probability that a randomly selected box of cereal weighs between $11$ ounces and $11.5$ ounces?  <font color = \"red\"><b>[3]</b>\n",
    "\n"
   ]
  },
  {
   "cell_type": "code",
   "execution_count": 104,
   "metadata": {
    "id": "WGyJOhRPj7cW"
   },
   "outputs": [
    {
     "name": "stdout",
     "output_type": "stream",
     "text": [
      "The probability that a randomly selected box of cereal weighs between  11 ounces and  11.5 ounces:  0.25\n"
     ]
    }
   ],
   "source": [
    "from scipy.stats import uniform\n",
    "\n",
    "pu = uniform.cdf(x = 11.5, loc = 10, scale = 2)-uniform.cdf(x=11, loc=10, scale = 2)\n",
    "pu\n",
    "print(\"The probability that a randomly selected box of cereal weighs between  11 ounces and  11.5 ounces: \", pu)"
   ]
  },
  {
   "cell_type": "markdown",
   "metadata": {
    "id": "LfKeyJ8J5DvS"
   },
   "source": [
    "###**Question 10**"
   ]
  },
  {
   "cell_type": "markdown",
   "metadata": {
    "id": "MeHfN6987tY2"
   },
   "source": [
    "Import the **'taxis'** dataset, which is a built-in dataset within the seaborn library, and then standardize the **'distance'** column using standard normal distribution. Then, consider a scenario where an unknown individual has boarded the taxi, and determine the likelihood of this person traveling a distance greater than $25$ kilometers. <font color = \"red\"><b>[5]</b>"
   ]
  },
  {
   "cell_type": "code",
   "execution_count": 106,
   "metadata": {
    "id": "oCvbZvf_5O36"
   },
   "outputs": [
    {
     "data": {
      "text/html": [
       "<div>\n",
       "<style scoped>\n",
       "    .dataframe tbody tr th:only-of-type {\n",
       "        vertical-align: middle;\n",
       "    }\n",
       "\n",
       "    .dataframe tbody tr th {\n",
       "        vertical-align: top;\n",
       "    }\n",
       "\n",
       "    .dataframe thead th {\n",
       "        text-align: right;\n",
       "    }\n",
       "</style>\n",
       "<table border=\"1\" class=\"dataframe\">\n",
       "  <thead>\n",
       "    <tr style=\"text-align: right;\">\n",
       "      <th></th>\n",
       "      <th>pickup</th>\n",
       "      <th>dropoff</th>\n",
       "      <th>passengers</th>\n",
       "      <th>distance</th>\n",
       "      <th>fare</th>\n",
       "      <th>tip</th>\n",
       "      <th>tolls</th>\n",
       "      <th>total</th>\n",
       "      <th>color</th>\n",
       "      <th>payment</th>\n",
       "      <th>pickup_zone</th>\n",
       "      <th>dropoff_zone</th>\n",
       "      <th>pickup_borough</th>\n",
       "      <th>dropoff_borough</th>\n",
       "    </tr>\n",
       "  </thead>\n",
       "  <tbody>\n",
       "    <tr>\n",
       "      <th>0</th>\n",
       "      <td>2019-03-23 20:21:09</td>\n",
       "      <td>2019-03-23 20:27:24</td>\n",
       "      <td>1</td>\n",
       "      <td>1.60</td>\n",
       "      <td>7.0</td>\n",
       "      <td>2.15</td>\n",
       "      <td>0.0</td>\n",
       "      <td>12.95</td>\n",
       "      <td>yellow</td>\n",
       "      <td>credit card</td>\n",
       "      <td>Lenox Hill West</td>\n",
       "      <td>UN/Turtle Bay South</td>\n",
       "      <td>Manhattan</td>\n",
       "      <td>Manhattan</td>\n",
       "    </tr>\n",
       "    <tr>\n",
       "      <th>1</th>\n",
       "      <td>2019-03-04 16:11:55</td>\n",
       "      <td>2019-03-04 16:19:00</td>\n",
       "      <td>1</td>\n",
       "      <td>0.79</td>\n",
       "      <td>5.0</td>\n",
       "      <td>0.00</td>\n",
       "      <td>0.0</td>\n",
       "      <td>9.30</td>\n",
       "      <td>yellow</td>\n",
       "      <td>cash</td>\n",
       "      <td>Upper West Side South</td>\n",
       "      <td>Upper West Side South</td>\n",
       "      <td>Manhattan</td>\n",
       "      <td>Manhattan</td>\n",
       "    </tr>\n",
       "    <tr>\n",
       "      <th>2</th>\n",
       "      <td>2019-03-27 17:53:01</td>\n",
       "      <td>2019-03-27 18:00:25</td>\n",
       "      <td>1</td>\n",
       "      <td>1.37</td>\n",
       "      <td>7.5</td>\n",
       "      <td>2.36</td>\n",
       "      <td>0.0</td>\n",
       "      <td>14.16</td>\n",
       "      <td>yellow</td>\n",
       "      <td>credit card</td>\n",
       "      <td>Alphabet City</td>\n",
       "      <td>West Village</td>\n",
       "      <td>Manhattan</td>\n",
       "      <td>Manhattan</td>\n",
       "    </tr>\n",
       "    <tr>\n",
       "      <th>3</th>\n",
       "      <td>2019-03-10 01:23:59</td>\n",
       "      <td>2019-03-10 01:49:51</td>\n",
       "      <td>1</td>\n",
       "      <td>7.70</td>\n",
       "      <td>27.0</td>\n",
       "      <td>6.15</td>\n",
       "      <td>0.0</td>\n",
       "      <td>36.95</td>\n",
       "      <td>yellow</td>\n",
       "      <td>credit card</td>\n",
       "      <td>Hudson Sq</td>\n",
       "      <td>Yorkville West</td>\n",
       "      <td>Manhattan</td>\n",
       "      <td>Manhattan</td>\n",
       "    </tr>\n",
       "    <tr>\n",
       "      <th>4</th>\n",
       "      <td>2019-03-30 13:27:42</td>\n",
       "      <td>2019-03-30 13:37:14</td>\n",
       "      <td>3</td>\n",
       "      <td>2.16</td>\n",
       "      <td>9.0</td>\n",
       "      <td>1.10</td>\n",
       "      <td>0.0</td>\n",
       "      <td>13.40</td>\n",
       "      <td>yellow</td>\n",
       "      <td>credit card</td>\n",
       "      <td>Midtown East</td>\n",
       "      <td>Yorkville West</td>\n",
       "      <td>Manhattan</td>\n",
       "      <td>Manhattan</td>\n",
       "    </tr>\n",
       "  </tbody>\n",
       "</table>\n",
       "</div>"
      ],
      "text/plain": [
       "                pickup              dropoff  passengers  distance  fare   tip  \\\n",
       "0  2019-03-23 20:21:09  2019-03-23 20:27:24           1      1.60   7.0  2.15   \n",
       "1  2019-03-04 16:11:55  2019-03-04 16:19:00           1      0.79   5.0  0.00   \n",
       "2  2019-03-27 17:53:01  2019-03-27 18:00:25           1      1.37   7.5  2.36   \n",
       "3  2019-03-10 01:23:59  2019-03-10 01:49:51           1      7.70  27.0  6.15   \n",
       "4  2019-03-30 13:27:42  2019-03-30 13:37:14           3      2.16   9.0  1.10   \n",
       "\n",
       "   tolls  total   color      payment            pickup_zone  \\\n",
       "0    0.0  12.95  yellow  credit card        Lenox Hill West   \n",
       "1    0.0   9.30  yellow         cash  Upper West Side South   \n",
       "2    0.0  14.16  yellow  credit card          Alphabet City   \n",
       "3    0.0  36.95  yellow  credit card              Hudson Sq   \n",
       "4    0.0  13.40  yellow  credit card           Midtown East   \n",
       "\n",
       "            dropoff_zone pickup_borough dropoff_borough  \n",
       "0    UN/Turtle Bay South      Manhattan       Manhattan  \n",
       "1  Upper West Side South      Manhattan       Manhattan  \n",
       "2           West Village      Manhattan       Manhattan  \n",
       "3         Yorkville West      Manhattan       Manhattan  \n",
       "4         Yorkville West      Manhattan       Manhattan  "
      ]
     },
     "execution_count": 106,
     "metadata": {},
     "output_type": "execute_result"
    }
   ],
   "source": [
    "taxis = sns.load_dataset('taxis')\n",
    "taxis.head()"
   ]
  },
  {
   "cell_type": "code",
   "execution_count": 149,
   "metadata": {},
   "outputs": [
    {
     "data": {
      "text/plain": [
       "36.7"
      ]
     },
     "execution_count": 149,
     "metadata": {},
     "output_type": "execute_result"
    }
   ],
   "source": [
    "taxis['distance'].max()"
   ]
  },
  {
   "cell_type": "code",
   "execution_count": null,
   "metadata": {},
   "outputs": [],
   "source": []
  },
  {
   "cell_type": "code",
   "execution_count": 161,
   "metadata": {},
   "outputs": [
    {
     "data": {
      "text/plain": [
       "0.0"
      ]
     },
     "execution_count": 161,
     "metadata": {},
     "output_type": "execute_result"
    }
   ],
   "source": [
    "taxis['distance'].min()"
   ]
  },
  {
   "cell_type": "code",
   "execution_count": 116,
   "metadata": {},
   "outputs": [
    {
     "name": "stdout",
     "output_type": "stream",
     "text": [
      "Mean:  3.0246168195243133\n",
      "Standard deviation:  3.8278670010117537\n"
     ]
    }
   ],
   "source": [
    "mean = taxis['distance'].mean()\n",
    "print(\"Mean: \",mean)\n",
    "\n",
    "sd = taxis['distance'].std()\n",
    "print(\"Standard deviation: \",sd)\n",
    " "
   ]
  },
  {
   "cell_type": "code",
   "execution_count": 117,
   "metadata": {},
   "outputs": [
    {
     "data": {
      "text/plain": [
       "0   -0.372170\n",
       "1   -0.583776\n",
       "2   -0.432256\n",
       "3    1.221407\n",
       "4   -0.225874\n",
       "Name: distance, dtype: float64"
      ]
     },
     "execution_count": 117,
     "metadata": {},
     "output_type": "execute_result"
    }
   ],
   "source": [
    "#Normalized\n",
    "\n",
    "normalized = (taxis['distance']-mean)/(sd)\n",
    "normalized.head()"
   ]
  },
  {
   "cell_type": "code",
   "execution_count": 165,
   "metadata": {},
   "outputs": [],
   "source": [
    "z1 = (25-mean)/sd\n",
    "z2 = (36.7-mean)/sd"
   ]
  },
  {
   "cell_type": "code",
   "execution_count": 166,
   "metadata": {},
   "outputs": [
    {
     "data": {
      "text/plain": [
       "4.708868961422752e-09"
      ]
     },
     "execution_count": 166,
     "metadata": {},
     "output_type": "execute_result"
    }
   ],
   "source": [
    "from scipy.stats import norm\n",
    "prob = norm.cdf(z2) - norm.cdf(z1)\n",
    "prob"
   ]
  },
  {
   "cell_type": "code",
   "execution_count": 170,
   "metadata": {},
   "outputs": [
    {
     "name": "stdout",
     "output_type": "stream",
     "text": [
      "The probability of the person traveling a distance greater than  25 kilometers:  4.708868961422752e-09\n"
     ]
    }
   ],
   "source": [
    "print(\"The probability of the person traveling a distance greater than  25 kilometers: \", prob)"
   ]
  },
  {
   "cell_type": "markdown",
   "metadata": {},
   "source": [
    "---"
   ]
  },
  {
   "cell_type": "code",
   "execution_count": null,
   "metadata": {},
   "outputs": [],
   "source": []
  },
  {
   "cell_type": "code",
   "execution_count": null,
   "metadata": {},
   "outputs": [],
   "source": []
  }
 ],
 "metadata": {
  "colab": {
   "collapsed_sections": [
    "F5R8UC3lKmGU",
    "L6lyex_33y0v",
    "J6Oi2wSI9Fav",
    "UbLKGyg8IsWI",
    "H3NhgLasKK1Z",
    "xSGvVPGPlyuW",
    "W09wKYGjcj9-",
    "LtvwxD6EnqAg",
    "iCShmU3tpDar",
    "LfKeyJ8J5DvS"
   ],
   "provenance": []
  },
  "kernelspec": {
   "display_name": "Python 3 (ipykernel)",
   "language": "python",
   "name": "python3"
  },
  "language_info": {
   "codemirror_mode": {
    "name": "ipython",
    "version": 3
   },
   "file_extension": ".py",
   "mimetype": "text/x-python",
   "name": "python",
   "nbconvert_exporter": "python",
   "pygments_lexer": "ipython3",
   "version": "3.9.12"
  }
 },
 "nbformat": 4,
 "nbformat_minor": 1
}
