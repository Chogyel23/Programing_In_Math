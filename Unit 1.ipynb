{
 "cells": [
  {
   "cell_type": "code",
   "execution_count": 1,
   "id": "9ca65572",
   "metadata": {},
   "outputs": [],
   "source": [
    "#DataFrame"
   ]
  },
  {
   "cell_type": "code",
   "execution_count": 4,
   "id": "93b4144a",
   "metadata": {},
   "outputs": [
    {
     "data": {
      "text/html": [
       "<div>\n",
       "<style scoped>\n",
       "    .dataframe tbody tr th:only-of-type {\n",
       "        vertical-align: middle;\n",
       "    }\n",
       "\n",
       "    .dataframe tbody tr th {\n",
       "        vertical-align: top;\n",
       "    }\n",
       "\n",
       "    .dataframe thead th {\n",
       "        text-align: right;\n",
       "    }\n",
       "</style>\n",
       "<table border=\"1\" class=\"dataframe\">\n",
       "  <thead>\n",
       "    <tr style=\"text-align: right;\">\n",
       "      <th></th>\n",
       "      <th>Name of Country</th>\n",
       "      <th>Infant Mortality rate</th>\n",
       "    </tr>\n",
       "  </thead>\n",
       "  <tbody>\n",
       "    <tr>\n",
       "      <th>0</th>\n",
       "      <td>Bhutan</td>\n",
       "      <td>21</td>\n",
       "    </tr>\n",
       "    <tr>\n",
       "      <th>1</th>\n",
       "      <td>Singapore</td>\n",
       "      <td>2</td>\n",
       "    </tr>\n",
       "    <tr>\n",
       "      <th>2</th>\n",
       "      <td>Bangladesh</td>\n",
       "      <td>24</td>\n",
       "    </tr>\n",
       "    <tr>\n",
       "      <th>3</th>\n",
       "      <td>Sirlanka</td>\n",
       "      <td>7</td>\n",
       "    </tr>\n",
       "    <tr>\n",
       "      <th>4</th>\n",
       "      <td>Indaia</td>\n",
       "      <td>29</td>\n",
       "    </tr>\n",
       "  </tbody>\n",
       "</table>\n",
       "</div>"
      ],
      "text/plain": [
       "  Name of Country  Infant Mortality rate\n",
       "0          Bhutan                     21\n",
       "1       Singapore                      2\n",
       "2      Bangladesh                     24\n",
       "3        Sirlanka                      7\n",
       "4          Indaia                     29"
      ]
     },
     "execution_count": 4,
     "metadata": {},
     "output_type": "execute_result"
    }
   ],
   "source": [
    "import pandas as pd\n",
    "my_dict={'Name of Country':['Bhutan','Singapore','Bangladesh','Sirlanka','Indaia'],'Infant Mortality rate':[21,2,24,7,29]}\n",
    "df=pd.DataFrame(my_dict)\n",
    "df"
   ]
  },
  {
   "cell_type": "code",
   "execution_count": 5,
   "id": "de179260",
   "metadata": {},
   "outputs": [
    {
     "data": {
      "text/html": [
       "<div>\n",
       "<style scoped>\n",
       "    .dataframe tbody tr th:only-of-type {\n",
       "        vertical-align: middle;\n",
       "    }\n",
       "\n",
       "    .dataframe tbody tr th {\n",
       "        vertical-align: top;\n",
       "    }\n",
       "\n",
       "    .dataframe thead th {\n",
       "        text-align: right;\n",
       "    }\n",
       "</style>\n",
       "<table border=\"1\" class=\"dataframe\">\n",
       "  <thead>\n",
       "    <tr style=\"text-align: right;\">\n",
       "      <th></th>\n",
       "      <th>Name of country</th>\n",
       "      <th>Infant mortality rate</th>\n",
       "    </tr>\n",
       "  </thead>\n",
       "  <tbody>\n",
       "    <tr>\n",
       "      <th>0</th>\n",
       "      <td>Bhutan</td>\n",
       "      <td>21</td>\n",
       "    </tr>\n",
       "    <tr>\n",
       "      <th>1</th>\n",
       "      <td>Singapore</td>\n",
       "      <td>2</td>\n",
       "    </tr>\n",
       "    <tr>\n",
       "      <th>2</th>\n",
       "      <td>Bangladesh</td>\n",
       "      <td>24</td>\n",
       "    </tr>\n",
       "    <tr>\n",
       "      <th>3</th>\n",
       "      <td>Sirlanka</td>\n",
       "      <td>7</td>\n",
       "    </tr>\n",
       "  </tbody>\n",
       "</table>\n",
       "</div>"
      ],
      "text/plain": [
       "  Name of country Infant mortality rate\n",
       "0          Bhutan                    21\n",
       "1       Singapore                     2\n",
       "2      Bangladesh                    24\n",
       "3        Sirlanka                     7"
      ]
     },
     "execution_count": 5,
     "metadata": {},
     "output_type": "execute_result"
    }
   ],
   "source": [
    "import numpy as np\n",
    "my_array=np.array([['Bhutan',21],['Singapore',2],['Bangladesh',24],['Sirlanka',7]])\n",
    "alt_df=pd.DataFrame(my_array,columns=['Name of country','Infant mortality rate'])\n",
    "alt_df"
   ]
  },
  {
   "cell_type": "code",
   "execution_count": 8,
   "id": "e419d62b",
   "metadata": {},
   "outputs": [
    {
     "data": {
      "text/html": [
       "<div>\n",
       "<style scoped>\n",
       "    .dataframe tbody tr th:only-of-type {\n",
       "        vertical-align: middle;\n",
       "    }\n",
       "\n",
       "    .dataframe tbody tr th {\n",
       "        vertical-align: top;\n",
       "    }\n",
       "\n",
       "    .dataframe thead th {\n",
       "        text-align: right;\n",
       "    }\n",
       "</style>\n",
       "<table border=\"1\" class=\"dataframe\">\n",
       "  <thead>\n",
       "    <tr style=\"text-align: right;\">\n",
       "      <th></th>\n",
       "      <th>Name of country</th>\n",
       "      <th>Infant mortality rate</th>\n",
       "    </tr>\n",
       "  </thead>\n",
       "  <tbody>\n",
       "    <tr>\n",
       "      <th>1</th>\n",
       "      <td>Singapore</td>\n",
       "      <td>2</td>\n",
       "    </tr>\n",
       "    <tr>\n",
       "      <th>2</th>\n",
       "      <td>Bangladesh</td>\n",
       "      <td>24</td>\n",
       "    </tr>\n",
       "    <tr>\n",
       "      <th>3</th>\n",
       "      <td>Sirlanka</td>\n",
       "      <td>7</td>\n",
       "    </tr>\n",
       "  </tbody>\n",
       "</table>\n",
       "</div>"
      ],
      "text/plain": [
       "  Name of country Infant mortality rate\n",
       "1       Singapore                     2\n",
       "2      Bangladesh                    24\n",
       "3        Sirlanka                     7"
      ]
     },
     "execution_count": 8,
     "metadata": {},
     "output_type": "execute_result"
    }
   ],
   "source": [
    "#Accessing Rows and olumns\n",
    "df.loc[0]\n",
    "alt_df.loc[[1,2,3]]"
   ]
  },
  {
   "cell_type": "code",
   "execution_count": 10,
   "id": "9dffee7d",
   "metadata": {},
   "outputs": [
    {
     "data": {
      "text/html": [
       "<div>\n",
       "<style scoped>\n",
       "    .dataframe tbody tr th:only-of-type {\n",
       "        vertical-align: middle;\n",
       "    }\n",
       "\n",
       "    .dataframe tbody tr th {\n",
       "        vertical-align: top;\n",
       "    }\n",
       "\n",
       "    .dataframe thead th {\n",
       "        text-align: right;\n",
       "    }\n",
       "</style>\n",
       "<table border=\"1\" class=\"dataframe\">\n",
       "  <thead>\n",
       "    <tr style=\"text-align: right;\">\n",
       "      <th></th>\n",
       "      <th>Name of Country</th>\n",
       "      <th>Infant Mortality rate</th>\n",
       "    </tr>\n",
       "  </thead>\n",
       "  <tbody>\n",
       "    <tr>\n",
       "      <th>0</th>\n",
       "      <td>Japan</td>\n",
       "      <td>2</td>\n",
       "    </tr>\n",
       "    <tr>\n",
       "      <th>1</th>\n",
       "      <td>Singapore</td>\n",
       "      <td>2</td>\n",
       "    </tr>\n",
       "    <tr>\n",
       "      <th>2</th>\n",
       "      <td>Bangladesh</td>\n",
       "      <td>24</td>\n",
       "    </tr>\n",
       "    <tr>\n",
       "      <th>3</th>\n",
       "      <td>Sirlanka</td>\n",
       "      <td>7</td>\n",
       "    </tr>\n",
       "    <tr>\n",
       "      <th>4</th>\n",
       "      <td>Indaia</td>\n",
       "      <td>29</td>\n",
       "    </tr>\n",
       "  </tbody>\n",
       "</table>\n",
       "</div>"
      ],
      "text/plain": [
       "  Name of Country  Infant Mortality rate\n",
       "0           Japan                      2\n",
       "1       Singapore                      2\n",
       "2      Bangladesh                     24\n",
       "3        Sirlanka                      7\n",
       "4          Indaia                     29"
      ]
     },
     "execution_count": 10,
     "metadata": {},
     "output_type": "execute_result"
    }
   ],
   "source": [
    "#Change Value\n",
    "df.loc[0]=['Japan',2]\n",
    "df"
   ]
  },
  {
   "cell_type": "code",
   "execution_count": 15,
   "id": "9c647ff1",
   "metadata": {},
   "outputs": [
    {
     "name": "stderr",
     "output_type": "stream",
     "text": [
      "C:\\Users\\GCIT\\AppData\\Local\\Temp\\ipykernel_22728\\905257433.py:2: FutureWarning: Setting an item of incompatible dtype is deprecated and will raise in a future error of pandas. Value '0.74' has dtype incompatible with int64, please explicitly cast to a compatible dtype first.\n",
      "  df.loc[1]=['Bhutan',233,0.74]\n"
     ]
    },
    {
     "data": {
      "text/html": [
       "<div>\n",
       "<style scoped>\n",
       "    .dataframe tbody tr th:only-of-type {\n",
       "        vertical-align: middle;\n",
       "    }\n",
       "\n",
       "    .dataframe tbody tr th {\n",
       "        vertical-align: top;\n",
       "    }\n",
       "\n",
       "    .dataframe thead th {\n",
       "        text-align: right;\n",
       "    }\n",
       "</style>\n",
       "<table border=\"1\" class=\"dataframe\">\n",
       "  <thead>\n",
       "    <tr style=\"text-align: right;\">\n",
       "      <th></th>\n",
       "      <th>Name of Country</th>\n",
       "      <th>Infant Mortality rate</th>\n",
       "      <th>Population in million</th>\n",
       "    </tr>\n",
       "  </thead>\n",
       "  <tbody>\n",
       "    <tr>\n",
       "      <th>0</th>\n",
       "      <td>Japan</td>\n",
       "      <td>2</td>\n",
       "      <td>1250.00</td>\n",
       "    </tr>\n",
       "    <tr>\n",
       "      <th>1</th>\n",
       "      <td>Bhutan</td>\n",
       "      <td>233</td>\n",
       "      <td>0.74</td>\n",
       "    </tr>\n",
       "    <tr>\n",
       "      <th>2</th>\n",
       "      <td>Bangladesh</td>\n",
       "      <td>24</td>\n",
       "      <td>166.00</td>\n",
       "    </tr>\n",
       "    <tr>\n",
       "      <th>3</th>\n",
       "      <td>Sirlanka</td>\n",
       "      <td>7</td>\n",
       "      <td>21.00</td>\n",
       "    </tr>\n",
       "    <tr>\n",
       "      <th>4</th>\n",
       "      <td>Indaia</td>\n",
       "      <td>29</td>\n",
       "      <td>22.00</td>\n",
       "    </tr>\n",
       "  </tbody>\n",
       "</table>\n",
       "</div>"
      ],
      "text/plain": [
       "  Name of Country  Infant Mortality rate  Population in million\n",
       "0           Japan                      2                1250.00\n",
       "1          Bhutan                    233                   0.74\n",
       "2      Bangladesh                     24                 166.00\n",
       "3        Sirlanka                      7                  21.00\n",
       "4          Indaia                     29                  22.00"
      ]
     },
     "execution_count": 15,
     "metadata": {},
     "output_type": "execute_result"
    }
   ],
   "source": [
    "df['Population in million']=[1250,5,166,21,22]\n",
    "df.loc[1]=['Bhutan',233,0.74]\n",
    "df"
   ]
  },
  {
   "cell_type": "code",
   "execution_count": 16,
   "id": "b9a33796",
   "metadata": {},
   "outputs": [],
   "source": [
    "import matplotlib.pyplot as plt"
   ]
  },
  {
   "cell_type": "code",
   "execution_count": 21,
   "id": "8117463b",
   "metadata": {},
   "outputs": [],
   "source": [
    "x=[1,2,3,4,5,6,7,8]\n",
    "y=[-1,4,3,6,1,1,10,2]"
   ]
  },
  {
   "cell_type": "code",
   "execution_count": 22,
   "id": "4c7eaf53",
   "metadata": {},
   "outputs": [
    {
     "data": {
      "image/png": "[encoded data removed]",
      "text/plain": [
       "<Figure size 640x480 with 1 Axes>"
      ]
     },
     "metadata": {},
     "output_type": "display_data"
    }
   ],
   "source": [
    "plt.scatter(x,y)\n",
    "plt.title('Scatter Plot')\n",
    "plt.xlabel('x')\n",
    "plt.ylabel(y)\n",
    "plt.show()\n"
   ]
  },
  {
   "cell_type": "code",
   "execution_count": 33,
   "id": "d9ae1fc5",
   "metadata": {},
   "outputs": [
    {
     "data": {
      "image/png": "[encoded data removed]",
      "text/plain": [
       "<Figure size 640x480 with 1 Axes>"
      ]
     },
     "metadata": {},
     "output_type": "display_data"
    }
   ],
   "source": [
    "import numpy as np\n",
    "x=np.linspace(0,10,10000)\n",
    "y=np.cos(x)\n",
    "plt.title('Line graph')\n",
    "plt.plot(x,y)\n",
    "plt.show()"
   ]
  },
  {
   "cell_type": "code",
   "execution_count": 27,
   "id": "234fddb2",
   "metadata": {},
   "outputs": [
    {
     "data": {
      "image/png": "[encoded data removed]",
      "text/plain": [
       "<Figure size 640x480 with 1 Axes>"
      ]
     },
     "metadata": {},
     "output_type": "display_data"
    }
   ],
   "source": [
    "labels=['Type 1','Type 2','Type 3']\n",
    "counts=[2,3,5]\n",
    "\n",
    "plt.bar(labels,counts)\n",
    "plt.show()"
   ]
  },
  {
   "cell_type": "code",
   "execution_count": 31,
   "id": "f06b15e3",
   "metadata": {},
   "outputs": [
    {
     "name": "stdout",
     "output_type": "stream",
     "text": [
      "Requirement already satisfied: matplotlib in c:\\users\\gcit\\anaconda3\\lib\\site-packages (3.7.1)\n",
      "Requirement already satisfied: contourpy>=1.0.1 in c:\\users\\gcit\\anaconda3\\lib\\site-packages (from matplotlib) (1.0.5)\n",
      "Requirement already satisfied: cycler>=0.10 in c:\\users\\gcit\\anaconda3\\lib\\site-packages (from matplotlib) (0.11.0)\n",
      "Requirement already satisfied: fonttools>=4.22.0 in c:\\users\\gcit\\anaconda3\\lib\\site-packages (from matplotlib) (4.25.0)\n",
      "Requirement already satisfied: kiwisolver>=1.0.1 in c:\\users\\gcit\\anaconda3\\lib\\site-packages (from matplotlib) (1.4.4)\n",
      "Requirement already satisfied: numpy>=1.20 in c:\\users\\gcit\\anaconda3\\lib\\site-packages (from matplotlib) (1.24.3)\n",
      "Requirement already satisfied: packaging>=20.0 in c:\\users\\gcit\\anaconda3\\lib\\site-packages (from matplotlib) (23.0)\n",
      "Requirement already satisfied: pillow>=6.2.0 in c:\\users\\gcit\\anaconda3\\lib\\site-packages (from matplotlib) (9.4.0)\n",
      "Requirement already satisfied: pyparsing>=2.3.1 in c:\\users\\gcit\\anaconda3\\lib\\site-packages (from matplotlib) (3.0.9)\n",
      "Requirement already satisfied: python-dateutil>=2.7 in c:\\users\\gcit\\anaconda3\\lib\\site-packages (from matplotlib) (2.8.2)\n",
      "Requirement already satisfied: six>=1.5 in c:\\users\\gcit\\anaconda3\\lib\\site-packages (from python-dateutil>=2.7->matplotlib) (1.16.0)\n"
     ]
    }
   ],
   "source": [
    "!pip install matplotlib \n",
    "from matplotlib import pyplot as plt\n",
    "import numpy as np"
   ]
  },
  {
   "cell_type": "code",
   "execution_count": 35,
   "id": "3915cfef",
   "metadata": {},
   "outputs": [
    {
     "data": {
      "image/png": "[encoded data removed]",
      "text/plain": [
       "<Figure size 800x500 with 1 Axes>"
      ]
     },
     "metadata": {},
     "output_type": "display_data"
    }
   ],
   "source": [
    "ds = np.array([22,87,5,43,56,73,55,54,11,20,51])\n",
    "fig,ax=plt.subplots(figsize=(8,5))\n",
    "ax.hist(ds, bins=[0,25,50,75,100])\n",
    "plt.title('Histogram')\n",
    "plt.show()"
   ]
  },
  {
   "cell_type": "code",
   "execution_count": 41,
   "id": "c7e61d49",
   "metadata": {},
   "outputs": [
    {
     "data": {
      "image/png": "[encoded data removed]",
      "text/plain": [
       "<Figure size 900x600 with 1 Axes>"
      ]
     },
     "metadata": {},
     "output_type": "display_data"
    }
   ],
   "source": [
    "from matplotlib import pyplot as plt\n",
    "import numpy as np\n",
    "cars=['Kia','Van','Ev','Telsa','Alto','Swift']\n",
    "data=[23,17,35,2,30,23]\n",
    "\n",
    "fig=plt.figure(figsize=(9,6))\n",
    "plt.pie(data, labels = cars,autopct='%1.1f%%', explode=(0,0,0,0.2,0,0))\n",
    "plt.title('Pie chart')\n",
    "plt.show()"
   ]
  },
  {
   "cell_type": "code",
   "execution_count": 44,
   "id": "a0c2101f",
   "metadata": {},
   "outputs": [
    {
     "data": {
      "image/png": "[encoded data removed]",
      "text/plain": [
       "<Figure size 640x480 with 2 Axes>"
      ]
     },
     "metadata": {},
     "output_type": "display_data"
    }
   ],
   "source": [
    "import numpy as np\n",
    "import matplotlib.pyplot as plt\n",
    "my_map=np.random.randn(6,6)\n",
    "plt.imshow(my_map)\n",
    "plt.title('Heat map')\n",
    "plt.colorbar()\n",
    "plt.show()\n"
   ]
  },
  {
   "cell_type": "code",
   "execution_count": 45,
   "id": "26e8f605",
   "metadata": {},
   "outputs": [
    {
     "data": {
      "text/html": [
       "<div>\n",
       "<style scoped>\n",
       "    .dataframe tbody tr th:only-of-type {\n",
       "        vertical-align: middle;\n",
       "    }\n",
       "\n",
       "    .dataframe tbody tr th {\n",
       "        vertical-align: top;\n",
       "    }\n",
       "\n",
       "    .dataframe thead th {\n",
       "        text-align: right;\n",
       "    }\n",
       "</style>\n",
       "<table border=\"1\" class=\"dataframe\">\n",
       "  <thead>\n",
       "    <tr style=\"text-align: right;\">\n",
       "      <th></th>\n",
       "      <th>Name</th>\n",
       "      <th>Math_Score</th>\n",
       "      <th>AI_Score</th>\n",
       "    </tr>\n",
       "  </thead>\n",
       "  <tbody>\n",
       "    <tr>\n",
       "      <th>0</th>\n",
       "      <td>Pema</td>\n",
       "      <td>62</td>\n",
       "      <td>89</td>\n",
       "    </tr>\n",
       "    <tr>\n",
       "      <th>1</th>\n",
       "      <td>Dechen</td>\n",
       "      <td>47</td>\n",
       "      <td>45</td>\n",
       "    </tr>\n",
       "    <tr>\n",
       "      <th>2</th>\n",
       "      <td>Wangmo</td>\n",
       "      <td>55</td>\n",
       "      <td>23</td>\n",
       "    </tr>\n",
       "    <tr>\n",
       "      <th>3</th>\n",
       "      <td>Tshewang</td>\n",
       "      <td>74</td>\n",
       "      <td>33</td>\n",
       "    </tr>\n",
       "    <tr>\n",
       "      <th>4</th>\n",
       "      <td>Karma</td>\n",
       "      <td>31</td>\n",
       "      <td>34</td>\n",
       "    </tr>\n",
       "    <tr>\n",
       "      <th>5</th>\n",
       "      <td>Yangden</td>\n",
       "      <td>77</td>\n",
       "      <td>23</td>\n",
       "    </tr>\n",
       "    <tr>\n",
       "      <th>6</th>\n",
       "      <td>Sonam</td>\n",
       "      <td>85</td>\n",
       "      <td>13</td>\n",
       "    </tr>\n",
       "  </tbody>\n",
       "</table>\n",
       "</div>"
      ],
      "text/plain": [
       "       Name  Math_Score  AI_Score\n",
       "0      Pema          62        89\n",
       "1    Dechen          47        45\n",
       "2    Wangmo          55        23\n",
       "3  Tshewang          74        33\n",
       "4     Karma          31        34\n",
       "5   Yangden          77        23\n",
       "6     Sonam          85        13"
      ]
     },
     "execution_count": 45,
     "metadata": {},
     "output_type": "execute_result"
    }
   ],
   "source": [
    "#mean of a datframe\n",
    "import pandas as pd\n",
    "import numpy as np\n",
    "\n",
    "d={\n",
    "    'Name':['Pema','Dechen','Wangmo','Tshewang','Karma','Yangden','Sonam'],\n",
    "    'Math_Score':[62,47,55,74,31,77,85],\n",
    "    'AI_Score':[89,45,23,33,34,23,13]\n",
    "}\n",
    "df = pd.DataFrame(d)\n",
    "df"
   ]
  },
  {
   "cell_type": "code",
   "execution_count": 49,
   "id": "5bee7bec",
   "metadata": {},
   "outputs": [
    {
     "data": {
      "text/plain": [
       "AI_Score      37.142857\n",
       "Math_Score    61.571429\n",
       "dtype: float64"
      ]
     },
     "execution_count": 49,
     "metadata": {},
     "output_type": "execute_result"
    }
   ],
   "source": [
    "df['AI_Score'].mean()\n",
    "df1=df[['AI_Score','Math_Score']]\n",
    "df1.mean()"
   ]
  },
  {
   "cell_type": "code",
   "execution_count": 53,
   "id": "66b6f155",
   "metadata": {},
   "outputs": [
    {
     "data": {
      "text/plain": [
       "8.471402701221082"
      ]
     },
     "execution_count": 53,
     "metadata": {},
     "output_type": "execute_result"
    }
   ],
   "source": [
    "#Geometric Mean\n",
    "from scipy import stats\n",
    "g_mean=stats.gmean([4,11,15,16,5,7])\n",
    "g_mean"
   ]
  },
  {
   "cell_type": "code",
   "execution_count": 54,
   "id": "03031375",
   "metadata": {},
   "outputs": [
    {
     "data": {
      "text/html": [
       "<div>\n",
       "<style scoped>\n",
       "    .dataframe tbody tr th:only-of-type {\n",
       "        vertical-align: middle;\n",
       "    }\n",
       "\n",
       "    .dataframe tbody tr th {\n",
       "        vertical-align: top;\n",
       "    }\n",
       "\n",
       "    .dataframe thead th {\n",
       "        text-align: right;\n",
       "    }\n",
       "</style>\n",
       "<table border=\"1\" class=\"dataframe\">\n",
       "  <thead>\n",
       "    <tr style=\"text-align: right;\">\n",
       "      <th></th>\n",
       "      <th>Name</th>\n",
       "      <th>Stats_score</th>\n",
       "      <th>Algebra_score</th>\n",
       "    </tr>\n",
       "  </thead>\n",
       "  <tbody>\n",
       "    <tr>\n",
       "      <th>0</th>\n",
       "      <td>Nima</td>\n",
       "      <td>62</td>\n",
       "      <td>89</td>\n",
       "    </tr>\n",
       "    <tr>\n",
       "      <th>1</th>\n",
       "      <td>Dawa</td>\n",
       "      <td>47</td>\n",
       "      <td>34</td>\n",
       "    </tr>\n",
       "    <tr>\n",
       "      <th>2</th>\n",
       "      <td>Chador</td>\n",
       "      <td>56</td>\n",
       "      <td>56</td>\n",
       "    </tr>\n",
       "    <tr>\n",
       "      <th>3</th>\n",
       "      <td>Shaym</td>\n",
       "      <td>78</td>\n",
       "      <td>78</td>\n",
       "    </tr>\n",
       "    <tr>\n",
       "      <th>4</th>\n",
       "      <td>Zangmo</td>\n",
       "      <td>66</td>\n",
       "      <td>45</td>\n",
       "    </tr>\n",
       "    <tr>\n",
       "      <th>5</th>\n",
       "      <td>Om</td>\n",
       "      <td>56</td>\n",
       "      <td>67</td>\n",
       "    </tr>\n",
       "    <tr>\n",
       "      <th>6</th>\n",
       "      <td>Karma</td>\n",
       "      <td>56</td>\n",
       "      <td>45</td>\n",
       "    </tr>\n",
       "  </tbody>\n",
       "</table>\n",
       "</div>"
      ],
      "text/plain": [
       "     Name  Stats_score  Algebra_score\n",
       "0    Nima           62             89\n",
       "1    Dawa           47             34\n",
       "2  Chador           56             56\n",
       "3   Shaym           78             78\n",
       "4  Zangmo           66             45\n",
       "5      Om           56             67\n",
       "6   Karma           56             45"
      ]
     },
     "execution_count": 54,
     "metadata": {},
     "output_type": "execute_result"
    }
   ],
   "source": [
    "#Gmean of DataFrame\n",
    "import pandas as pd\n",
    "import numpy as np\n",
    "from scipy import stats\n",
    "\n",
    "d={\n",
    "    'Name':['Nima','Dawa','Chador','Shaym','Zangmo','Om','Karma'],\n",
    "    'Stats_score':[62,47,56,78,66,56,56],\n",
    "    'Algebra_score':[89,34,56,78,45,67,45]\n",
    "}\n",
    "df=pd.DataFrame(d)\n",
    "df"
   ]
  },
  {
   "cell_type": "code",
   "execution_count": 57,
   "id": "b15f3657",
   "metadata": {},
   "outputs": [
    {
     "data": {
      "text/plain": [
       "array([59.4818675 , 56.30171528])"
      ]
     },
     "execution_count": 57,
     "metadata": {},
     "output_type": "execute_result"
    }
   ],
   "source": [
    "stats.gmean(df.iloc[:,1:3],axis=0)"
   ]
  },
  {
   "cell_type": "code",
   "execution_count": 59,
   "id": "84598496",
   "metadata": {},
   "outputs": [
    {
     "data": {
      "text/plain": [
       "59.481867501913506"
      ]
     },
     "execution_count": 59,
     "metadata": {},
     "output_type": "execute_result"
    }
   ],
   "source": [
    "stats.gmean(df.loc[:,'Stats_score']) #Gmean of particular column"
   ]
  },
  {
   "cell_type": "code",
   "execution_count": 60,
   "id": "6b5fd59a",
   "metadata": {},
   "outputs": [
    {
     "name": "stdout",
     "output_type": "stream",
     "text": [
      "6.542364880811896\n"
     ]
    }
   ],
   "source": [
    "#Harmonic mean\n",
    "from scipy import stats\n",
    "print(stats.hmean([4,11,15,6,5,7]))"
   ]
  },
  {
   "cell_type": "code",
   "execution_count": 61,
   "id": "e02e0497",
   "metadata": {},
   "outputs": [
    {
     "data": {
      "text/html": [
       "<div>\n",
       "<style scoped>\n",
       "    .dataframe tbody tr th:only-of-type {\n",
       "        vertical-align: middle;\n",
       "    }\n",
       "\n",
       "    .dataframe tbody tr th {\n",
       "        vertical-align: top;\n",
       "    }\n",
       "\n",
       "    .dataframe thead th {\n",
       "        text-align: right;\n",
       "    }\n",
       "</style>\n",
       "<table border=\"1\" class=\"dataframe\">\n",
       "  <thead>\n",
       "    <tr style=\"text-align: right;\">\n",
       "      <th></th>\n",
       "      <th>Name</th>\n",
       "      <th>Math_score</th>\n",
       "      <th>Dzo_score</th>\n",
       "    </tr>\n",
       "  </thead>\n",
       "  <tbody>\n",
       "    <tr>\n",
       "      <th>0</th>\n",
       "      <td>Dorji</td>\n",
       "      <td>45</td>\n",
       "      <td>56</td>\n",
       "    </tr>\n",
       "    <tr>\n",
       "      <th>1</th>\n",
       "      <td>Sonam</td>\n",
       "      <td>45</td>\n",
       "      <td>78</td>\n",
       "    </tr>\n",
       "    <tr>\n",
       "      <th>2</th>\n",
       "      <td>Chador</td>\n",
       "      <td>45</td>\n",
       "      <td>90</td>\n",
       "    </tr>\n",
       "    <tr>\n",
       "      <th>3</th>\n",
       "      <td>Shyam</td>\n",
       "      <td>45</td>\n",
       "      <td>90</td>\n",
       "    </tr>\n",
       "    <tr>\n",
       "      <th>4</th>\n",
       "      <td>Zangmo</td>\n",
       "      <td>67</td>\n",
       "      <td>89</td>\n",
       "    </tr>\n",
       "    <tr>\n",
       "      <th>5</th>\n",
       "      <td>Om</td>\n",
       "      <td>89</td>\n",
       "      <td>89</td>\n",
       "    </tr>\n",
       "    <tr>\n",
       "      <th>6</th>\n",
       "      <td>karma</td>\n",
       "      <td>90</td>\n",
       "      <td>89</td>\n",
       "    </tr>\n",
       "  </tbody>\n",
       "</table>\n",
       "</div>"
      ],
      "text/plain": [
       "     Name  Math_score  Dzo_score\n",
       "0   Dorji          45         56\n",
       "1   Sonam          45         78\n",
       "2  Chador          45         90\n",
       "3   Shyam          45         90\n",
       "4  Zangmo          67         89\n",
       "5      Om          89         89\n",
       "6   karma          90         89"
      ]
     },
     "execution_count": 61,
     "metadata": {},
     "output_type": "execute_result"
    }
   ],
   "source": [
    "#Data Frame Hmean\n",
    "import pandas as pd\n",
    "import numpy as np\n",
    "from scipy import stats\n",
    "d={\n",
    "    'Name':['Dorji','Sonam','Chador','Shyam','Zangmo','Om','karma'],\n",
    "    'Math_score':[45,45,45,45,67,89,90],\n",
    "    'Dzo_score':[56,78,90,90,89,89,89]\n",
    "}\n",
    "df=pd.DataFrame(d)\n",
    "df"
   ]
  },
  {
   "cell_type": "code",
   "execution_count": 63,
   "id": "f89e5d25",
   "metadata": {},
   "outputs": [
    {
     "data": {
      "text/plain": [
       "array([55.48451416, 80.82418213])"
      ]
     },
     "execution_count": 63,
     "metadata": {},
     "output_type": "execute_result"
    }
   ],
   "source": [
    "stats.hmean(df.iloc[:,1:3],axis=0) "
   ]
  },
  {
   "cell_type": "code",
   "execution_count": 65,
   "id": "9a955a46",
   "metadata": {},
   "outputs": [
    {
     "data": {
      "text/plain": [
       "55.48451415658648"
      ]
     },
     "execution_count": 65,
     "metadata": {},
     "output_type": "execute_result"
    }
   ],
   "source": [
    "stats.hmean(df.loc[:,'Math_score'])"
   ]
  },
  {
   "cell_type": "code",
   "execution_count": 69,
   "id": "5b8f38c0",
   "metadata": {},
   "outputs": [
    {
     "name": "stdout",
     "output_type": "stream",
     "text": [
      "Requirement already satisfied: statistics in c:\\users\\gcit\\anaconda3\\lib\\site-packages (1.0.3.5)\n",
      "Requirement already satisfied: docutils>=0.3 in c:\\users\\gcit\\anaconda3\\lib\\site-packages (from statistics) (0.18.1)\n"
     ]
    },
    {
     "data": {
      "text/plain": [
       "5"
      ]
     },
     "execution_count": 69,
     "metadata": {},
     "output_type": "execute_result"
    }
   ],
   "source": [
    "#Median\n",
    "!pip install statistics \n",
    "import statistics as stats\n",
    "\n",
    "stats.median([4,-11,-5,16,5,7,9])"
   ]
  },
  {
   "cell_type": "code",
   "execution_count": 71,
   "id": "e41389e1",
   "metadata": {},
   "outputs": [
    {
     "data": {
      "text/html": [
       "<div>\n",
       "<style scoped>\n",
       "    .dataframe tbody tr th:only-of-type {\n",
       "        vertical-align: middle;\n",
       "    }\n",
       "\n",
       "    .dataframe tbody tr th {\n",
       "        vertical-align: top;\n",
       "    }\n",
       "\n",
       "    .dataframe thead th {\n",
       "        text-align: right;\n",
       "    }\n",
       "</style>\n",
       "<table border=\"1\" class=\"dataframe\">\n",
       "  <thead>\n",
       "    <tr style=\"text-align: right;\">\n",
       "      <th></th>\n",
       "      <th>Name</th>\n",
       "      <th>Stats_score</th>\n",
       "      <th>Ml_score</th>\n",
       "    </tr>\n",
       "  </thead>\n",
       "  <tbody>\n",
       "    <tr>\n",
       "      <th>0</th>\n",
       "      <td>yeshey</td>\n",
       "      <td>56</td>\n",
       "      <td>45</td>\n",
       "    </tr>\n",
       "    <tr>\n",
       "      <th>1</th>\n",
       "      <td>chogyel</td>\n",
       "      <td>67</td>\n",
       "      <td>56</td>\n",
       "    </tr>\n",
       "    <tr>\n",
       "      <th>2</th>\n",
       "      <td>sonam</td>\n",
       "      <td>89</td>\n",
       "      <td>78</td>\n",
       "    </tr>\n",
       "    <tr>\n",
       "      <th>3</th>\n",
       "      <td>sangay</td>\n",
       "      <td>89</td>\n",
       "      <td>99</td>\n",
       "    </tr>\n",
       "  </tbody>\n",
       "</table>\n",
       "</div>"
      ],
      "text/plain": [
       "      Name  Stats_score  Ml_score\n",
       "0   yeshey           56        45\n",
       "1  chogyel           67        56\n",
       "2    sonam           89        78\n",
       "3   sangay           89        99"
      ]
     },
     "execution_count": 71,
     "metadata": {},
     "output_type": "execute_result"
    }
   ],
   "source": [
    "#Median of DataFrame\n",
    "import pandas as pd\n",
    "import numpy as np\n",
    "from scipy import stats\n",
    "d={\n",
    "    'Name':['yeshey','chogyel','sonam','sangay'],\n",
    "    'Stats_score':[56,67,89,89],\n",
    "    'Ml_score':[45,56,78,99]\n",
    "}\n",
    "df=pd.DataFrame(d)\n",
    "df"
   ]
  },
  {
   "cell_type": "code",
   "execution_count": 72,
   "id": "04205860",
   "metadata": {},
   "outputs": [
    {
     "data": {
      "text/plain": [
       "Stats_score    78.0\n",
       "Ml_score       67.0\n",
       "dtype: float64"
      ]
     },
     "execution_count": 72,
     "metadata": {},
     "output_type": "execute_result"
    }
   ],
   "source": [
    "df.iloc[:,1:4].median()"
   ]
  },
  {
   "cell_type": "code",
   "execution_count": 73,
   "id": "ef27549e",
   "metadata": {},
   "outputs": [
    {
     "data": {
      "text/plain": [
       "67.0"
      ]
     },
     "execution_count": 73,
     "metadata": {},
     "output_type": "execute_result"
    }
   ],
   "source": [
    "df.loc[:,'Ml_score'].median()"
   ]
  },
  {
   "cell_type": "code",
   "execution_count": 74,
   "id": "d6918577",
   "metadata": {},
   "outputs": [
    {
     "data": {
      "text/plain": [
       "'cat'"
      ]
     },
     "execution_count": 74,
     "metadata": {},
     "output_type": "execute_result"
    }
   ],
   "source": [
    "#Mode\n",
    "import statistics as stats\n",
    "stats.mode(['lion','cat','cat','dog','tiger'])"
   ]
  },
  {
   "cell_type": "code",
   "execution_count": 78,
   "id": "49aea11e",
   "metadata": {},
   "outputs": [
    {
     "data": {
      "text/html": [
       "<div>\n",
       "<style scoped>\n",
       "    .dataframe tbody tr th:only-of-type {\n",
       "        vertical-align: middle;\n",
       "    }\n",
       "\n",
       "    .dataframe tbody tr th {\n",
       "        vertical-align: top;\n",
       "    }\n",
       "\n",
       "    .dataframe thead th {\n",
       "        text-align: right;\n",
       "    }\n",
       "</style>\n",
       "<table border=\"1\" class=\"dataframe\">\n",
       "  <thead>\n",
       "    <tr style=\"text-align: right;\">\n",
       "      <th></th>\n",
       "      <th>Name</th>\n",
       "      <th>Stats_score</th>\n",
       "      <th>Dzo_score</th>\n",
       "    </tr>\n",
       "  </thead>\n",
       "  <tbody>\n",
       "    <tr>\n",
       "      <th>0</th>\n",
       "      <td>Dorji</td>\n",
       "      <td>45</td>\n",
       "      <td>75</td>\n",
       "    </tr>\n",
       "    <tr>\n",
       "      <th>1</th>\n",
       "      <td>Sonam</td>\n",
       "      <td>56</td>\n",
       "      <td>86</td>\n",
       "    </tr>\n",
       "    <tr>\n",
       "      <th>2</th>\n",
       "      <td>Chador</td>\n",
       "      <td>78</td>\n",
       "      <td>98</td>\n",
       "    </tr>\n",
       "    <tr>\n",
       "      <th>3</th>\n",
       "      <td>Shyam</td>\n",
       "      <td>46</td>\n",
       "      <td>36</td>\n",
       "    </tr>\n",
       "    <tr>\n",
       "      <th>4</th>\n",
       "      <td>Zangmo</td>\n",
       "      <td>78</td>\n",
       "      <td>78</td>\n",
       "    </tr>\n",
       "    <tr>\n",
       "      <th>5</th>\n",
       "      <td>Om</td>\n",
       "      <td>57</td>\n",
       "      <td>57</td>\n",
       "    </tr>\n",
       "    <tr>\n",
       "      <th>6</th>\n",
       "      <td>Sonam</td>\n",
       "      <td>89</td>\n",
       "      <td>89</td>\n",
       "    </tr>\n",
       "    <tr>\n",
       "      <th>7</th>\n",
       "      <td>Karma</td>\n",
       "      <td>90</td>\n",
       "      <td>34</td>\n",
       "    </tr>\n",
       "  </tbody>\n",
       "</table>\n",
       "</div>"
      ],
      "text/plain": [
       "     Name  Stats_score  Dzo_score\n",
       "0   Dorji           45         75\n",
       "1   Sonam           56         86\n",
       "2  Chador           78         98\n",
       "3   Shyam           46         36\n",
       "4  Zangmo           78         78\n",
       "5      Om           57         57\n",
       "6   Sonam           89         89\n",
       "7   Karma           90         34"
      ]
     },
     "execution_count": 78,
     "metadata": {},
     "output_type": "execute_result"
    }
   ],
   "source": [
    "#Mode Of DataFrame\n",
    "import pandas as pd\n",
    "import numpy as np\n",
    "from scipy import stats\n",
    "d={\n",
    "    'Name':['Dorji','Sonam','Chador','Shyam','Zangmo','Om','Sonam','Karma'],\n",
    "    'Stats_score':[45,56,78,46,78,57,89,90],\n",
    "    'Dzo_score':[75,86,98,36,78,57,89,34] \n",
    "}\n",
    "df=pd.DataFrame(d)\n",
    "df"
   ]
  },
  {
   "cell_type": "code",
   "execution_count": 79,
   "id": "9900f6ef",
   "metadata": {},
   "outputs": [
    {
     "data": {
      "text/html": [
       "<div>\n",
       "<style scoped>\n",
       "    .dataframe tbody tr th:only-of-type {\n",
       "        vertical-align: middle;\n",
       "    }\n",
       "\n",
       "    .dataframe tbody tr th {\n",
       "        vertical-align: top;\n",
       "    }\n",
       "\n",
       "    .dataframe thead th {\n",
       "        text-align: right;\n",
       "    }\n",
       "</style>\n",
       "<table border=\"1\" class=\"dataframe\">\n",
       "  <thead>\n",
       "    <tr style=\"text-align: right;\">\n",
       "      <th></th>\n",
       "      <th>Name</th>\n",
       "      <th>Stats_score</th>\n",
       "      <th>Dzo_score</th>\n",
       "    </tr>\n",
       "  </thead>\n",
       "  <tbody>\n",
       "    <tr>\n",
       "      <th>0</th>\n",
       "      <td>Sonam</td>\n",
       "      <td>78.0</td>\n",
       "      <td>34</td>\n",
       "    </tr>\n",
       "    <tr>\n",
       "      <th>1</th>\n",
       "      <td>NaN</td>\n",
       "      <td>NaN</td>\n",
       "      <td>36</td>\n",
       "    </tr>\n",
       "    <tr>\n",
       "      <th>2</th>\n",
       "      <td>NaN</td>\n",
       "      <td>NaN</td>\n",
       "      <td>57</td>\n",
       "    </tr>\n",
       "    <tr>\n",
       "      <th>3</th>\n",
       "      <td>NaN</td>\n",
       "      <td>NaN</td>\n",
       "      <td>75</td>\n",
       "    </tr>\n",
       "    <tr>\n",
       "      <th>4</th>\n",
       "      <td>NaN</td>\n",
       "      <td>NaN</td>\n",
       "      <td>78</td>\n",
       "    </tr>\n",
       "    <tr>\n",
       "      <th>5</th>\n",
       "      <td>NaN</td>\n",
       "      <td>NaN</td>\n",
       "      <td>86</td>\n",
       "    </tr>\n",
       "    <tr>\n",
       "      <th>6</th>\n",
       "      <td>NaN</td>\n",
       "      <td>NaN</td>\n",
       "      <td>89</td>\n",
       "    </tr>\n",
       "    <tr>\n",
       "      <th>7</th>\n",
       "      <td>NaN</td>\n",
       "      <td>NaN</td>\n",
       "      <td>98</td>\n",
       "    </tr>\n",
       "  </tbody>\n",
       "</table>\n",
       "</div>"
      ],
      "text/plain": [
       "    Name  Stats_score  Dzo_score\n",
       "0  Sonam         78.0         34\n",
       "1    NaN          NaN         36\n",
       "2    NaN          NaN         57\n",
       "3    NaN          NaN         75\n",
       "4    NaN          NaN         78\n",
       "5    NaN          NaN         86\n",
       "6    NaN          NaN         89\n",
       "7    NaN          NaN         98"
      ]
     },
     "execution_count": 79,
     "metadata": {},
     "output_type": "execute_result"
    }
   ],
   "source": [
    "df.mode()"
   ]
  },
  {
   "cell_type": "code",
   "execution_count": 80,
   "id": "0edbe7a1",
   "metadata": {},
   "outputs": [],
   "source": [
    "#Covariance \n",
    "import pandas as pd"
   ]
  },
  {
   "cell_type": "code",
   "execution_count": 81,
   "id": "08e742bf",
   "metadata": {},
   "outputs": [
    {
     "data": {
      "text/html": [
       "<div>\n",
       "<style scoped>\n",
       "    .dataframe tbody tr th:only-of-type {\n",
       "        vertical-align: middle;\n",
       "    }\n",
       "\n",
       "    .dataframe tbody tr th {\n",
       "        vertical-align: top;\n",
       "    }\n",
       "\n",
       "    .dataframe thead th {\n",
       "        text-align: right;\n",
       "    }\n",
       "</style>\n",
       "<table border=\"1\" class=\"dataframe\">\n",
       "  <thead>\n",
       "    <tr style=\"text-align: right;\">\n",
       "      <th></th>\n",
       "      <th>dogs</th>\n",
       "      <th>cats</th>\n",
       "    </tr>\n",
       "  </thead>\n",
       "  <tbody>\n",
       "    <tr>\n",
       "      <th>dogs</th>\n",
       "      <td>0.666667</td>\n",
       "      <td>-1.000000</td>\n",
       "    </tr>\n",
       "    <tr>\n",
       "      <th>cats</th>\n",
       "      <td>-1.000000</td>\n",
       "      <td>1.666667</td>\n",
       "    </tr>\n",
       "  </tbody>\n",
       "</table>\n",
       "</div>"
      ],
      "text/plain": [
       "          dogs      cats\n",
       "dogs  0.666667 -1.000000\n",
       "cats -1.000000  1.666667"
      ]
     },
     "execution_count": 81,
     "metadata": {},
     "output_type": "execute_result"
    }
   ],
   "source": [
    "df=pd.DataFrame([(1,2),(0,3),(2,0),(1,1)],columns=['dogs','cats'])\n",
    "df.cov()"
   ]
  },
  {
   "cell_type": "code",
   "execution_count": 82,
   "id": "5bdd3485",
   "metadata": {},
   "outputs": [
    {
     "data": {
      "text/html": [
       "<div>\n",
       "<style scoped>\n",
       "    .dataframe tbody tr th:only-of-type {\n",
       "        vertical-align: middle;\n",
       "    }\n",
       "\n",
       "    .dataframe tbody tr th {\n",
       "        vertical-align: top;\n",
       "    }\n",
       "\n",
       "    .dataframe thead th {\n",
       "        text-align: right;\n",
       "    }\n",
       "</style>\n",
       "<table border=\"1\" class=\"dataframe\">\n",
       "  <thead>\n",
       "    <tr style=\"text-align: right;\">\n",
       "      <th></th>\n",
       "      <th>A</th>\n",
       "      <th>B</th>\n",
       "      <th>C</th>\n",
       "      <th>D</th>\n",
       "      <th>E</th>\n",
       "    </tr>\n",
       "  </thead>\n",
       "  <tbody>\n",
       "    <tr>\n",
       "      <th>A</th>\n",
       "      <td>0.918905</td>\n",
       "      <td>-0.029394</td>\n",
       "      <td>0.001396</td>\n",
       "      <td>-0.028877</td>\n",
       "      <td>0.043625</td>\n",
       "    </tr>\n",
       "    <tr>\n",
       "      <th>B</th>\n",
       "      <td>-0.029394</td>\n",
       "      <td>0.940604</td>\n",
       "      <td>0.001620</td>\n",
       "      <td>0.033968</td>\n",
       "      <td>-0.000458</td>\n",
       "    </tr>\n",
       "    <tr>\n",
       "      <th>C</th>\n",
       "      <td>0.001396</td>\n",
       "      <td>0.001620</td>\n",
       "      <td>1.049573</td>\n",
       "      <td>0.041117</td>\n",
       "      <td>0.035814</td>\n",
       "    </tr>\n",
       "    <tr>\n",
       "      <th>D</th>\n",
       "      <td>-0.028877</td>\n",
       "      <td>0.033968</td>\n",
       "      <td>0.041117</td>\n",
       "      <td>0.972959</td>\n",
       "      <td>-0.022877</td>\n",
       "    </tr>\n",
       "    <tr>\n",
       "      <th>E</th>\n",
       "      <td>0.043625</td>\n",
       "      <td>-0.000458</td>\n",
       "      <td>0.035814</td>\n",
       "      <td>-0.022877</td>\n",
       "      <td>1.037402</td>\n",
       "    </tr>\n",
       "  </tbody>\n",
       "</table>\n",
       "</div>"
      ],
      "text/plain": [
       "          A         B         C         D         E\n",
       "A  0.918905 -0.029394  0.001396 -0.028877  0.043625\n",
       "B -0.029394  0.940604  0.001620  0.033968 -0.000458\n",
       "C  0.001396  0.001620  1.049573  0.041117  0.035814\n",
       "D -0.028877  0.033968  0.041117  0.972959 -0.022877\n",
       "E  0.043625 -0.000458  0.035814 -0.022877  1.037402"
      ]
     },
     "execution_count": 82,
     "metadata": {},
     "output_type": "execute_result"
    }
   ],
   "source": [
    "import numpy as np\n",
    "import pandas as pd\n",
    "df = pd.DataFrame(np.random.randn(1000, 5), columns=['A', 'B', 'C', 'D', 'E'])\n",
    "df.cov()"
   ]
  },
  {
   "cell_type": "code",
   "execution_count": 90,
   "id": "bcdb087a",
   "metadata": {
    "scrolled": true
   },
   "outputs": [
    {
     "data": {
      "text/html": [
       "<div>\n",
       "<style scoped>\n",
       "    .dataframe tbody tr th:only-of-type {\n",
       "        vertical-align: middle;\n",
       "    }\n",
       "\n",
       "    .dataframe tbody tr th {\n",
       "        vertical-align: top;\n",
       "    }\n",
       "\n",
       "    .dataframe thead th {\n",
       "        text-align: right;\n",
       "    }\n",
       "</style>\n",
       "<table border=\"1\" class=\"dataframe\">\n",
       "  <thead>\n",
       "    <tr style=\"text-align: right;\">\n",
       "      <th></th>\n",
       "      <th>Name</th>\n",
       "      <th>Age</th>\n",
       "      <th>Weigth(Kg)</th>\n",
       "      <th>Heigth(cm)</th>\n",
       "    </tr>\n",
       "  </thead>\n",
       "  <tbody>\n",
       "    <tr>\n",
       "      <th>0</th>\n",
       "      <td>Dorji</td>\n",
       "      <td>22</td>\n",
       "      <td>45</td>\n",
       "      <td>123</td>\n",
       "    </tr>\n",
       "    <tr>\n",
       "      <th>1</th>\n",
       "      <td>wangmo</td>\n",
       "      <td>23</td>\n",
       "      <td>67</td>\n",
       "      <td>124</td>\n",
       "    </tr>\n",
       "    <tr>\n",
       "      <th>2</th>\n",
       "      <td>yeshey</td>\n",
       "      <td>21</td>\n",
       "      <td>89</td>\n",
       "      <td>156</td>\n",
       "    </tr>\n",
       "    <tr>\n",
       "      <th>3</th>\n",
       "      <td>chogyel</td>\n",
       "      <td>34</td>\n",
       "      <td>90</td>\n",
       "      <td>167</td>\n",
       "    </tr>\n",
       "    <tr>\n",
       "      <th>4</th>\n",
       "      <td>Jigme</td>\n",
       "      <td>56</td>\n",
       "      <td>78</td>\n",
       "      <td>180</td>\n",
       "    </tr>\n",
       "    <tr>\n",
       "      <th>5</th>\n",
       "      <td>namgyel</td>\n",
       "      <td>43</td>\n",
       "      <td>90</td>\n",
       "      <td>167</td>\n",
       "    </tr>\n",
       "  </tbody>\n",
       "</table>\n",
       "</div>"
      ],
      "text/plain": [
       "      Name  Age  Weigth(Kg)  Heigth(cm)\n",
       "0    Dorji   22          45         123\n",
       "1   wangmo   23          67         124\n",
       "2   yeshey   21          89         156\n",
       "3  chogyel   34          90         167\n",
       "4    Jigme   56          78         180\n",
       "5  namgyel   43          90         167"
      ]
     },
     "execution_count": 90,
     "metadata": {},
     "output_type": "execute_result"
    }
   ],
   "source": [
    "#Correlation\n",
    "import pandas as pd\n",
    "import numpy as np\n",
    "from scipy import stats\n",
    "\n",
    "d={\n",
    "    'Name':['Dorji','wangmo','yeshey','chogyel','Jigme','namgyel'],\n",
    "    'Age':[22,23,21,34,56,43],\n",
    "    'Weigth(Kg)':[45,67,89,90,78,90],\n",
    "    'Heigth(cm)':[123,124,156,167,180,167]\n",
    "}\n",
    "df = pd.DataFrame(d)\n",
    "df"
   ]
  },
  {
   "cell_type": "code",
   "execution_count": 99,
   "id": "4bde0738",
   "metadata": {
    "scrolled": true
   },
   "outputs": [
    {
     "data": {
      "text/html": [
       "<div>\n",
       "<style scoped>\n",
       "    .dataframe tbody tr th:only-of-type {\n",
       "        vertical-align: middle;\n",
       "    }\n",
       "\n",
       "    .dataframe tbody tr th {\n",
       "        vertical-align: top;\n",
       "    }\n",
       "\n",
       "    .dataframe thead th {\n",
       "        text-align: right;\n",
       "    }\n",
       "</style>\n",
       "<table border=\"1\" class=\"dataframe\">\n",
       "  <thead>\n",
       "    <tr style=\"text-align: right;\">\n",
       "      <th></th>\n",
       "      <th>Age</th>\n",
       "      <th>Weigth(Kg)</th>\n",
       "      <th>Heigth(cm)</th>\n",
       "      <th>Name_Dorji</th>\n",
       "      <th>Name_Jigme</th>\n",
       "      <th>Name_chogyel</th>\n",
       "      <th>Name_namgyel</th>\n",
       "      <th>Name_wangmo</th>\n",
       "      <th>Name_yeshey</th>\n",
       "    </tr>\n",
       "  </thead>\n",
       "  <tbody>\n",
       "    <tr>\n",
       "      <th>Age</th>\n",
       "      <td>1.000000</td>\n",
       "      <td>0.375453</td>\n",
       "      <td>0.804255</td>\n",
       "      <td>-0.387828</td>\n",
       "      <td>0.793021</td>\n",
       "      <td>0.028942</td>\n",
       "      <td>0.341520</td>\n",
       "      <td>-0.353097</td>\n",
       "      <td>-0.422559</td>\n",
       "    </tr>\n",
       "    <tr>\n",
       "      <th>Weigth(Kg)</th>\n",
       "      <td>0.375453</td>\n",
       "      <td>1.000000</td>\n",
       "      <td>0.780898</td>\n",
       "      <td>-0.861184</td>\n",
       "      <td>0.041009</td>\n",
       "      <td>0.369079</td>\n",
       "      <td>0.369079</td>\n",
       "      <td>-0.259722</td>\n",
       "      <td>0.341740</td>\n",
       "    </tr>\n",
       "    <tr>\n",
       "      <th>Heigth(cm)</th>\n",
       "      <td>0.804255</td>\n",
       "      <td>0.780898</td>\n",
       "      <td>1.000000</td>\n",
       "      <td>-0.609942</td>\n",
       "      <td>0.555422</td>\n",
       "      <td>0.289637</td>\n",
       "      <td>0.289637</td>\n",
       "      <td>-0.589497</td>\n",
       "      <td>0.064742</td>\n",
       "    </tr>\n",
       "    <tr>\n",
       "      <th>Name_Dorji</th>\n",
       "      <td>-0.387828</td>\n",
       "      <td>-0.861184</td>\n",
       "      <td>-0.609942</td>\n",
       "      <td>1.000000</td>\n",
       "      <td>-0.200000</td>\n",
       "      <td>-0.200000</td>\n",
       "      <td>-0.200000</td>\n",
       "      <td>-0.200000</td>\n",
       "      <td>-0.200000</td>\n",
       "    </tr>\n",
       "    <tr>\n",
       "      <th>Name_Jigme</th>\n",
       "      <td>0.793021</td>\n",
       "      <td>0.041009</td>\n",
       "      <td>0.555422</td>\n",
       "      <td>-0.200000</td>\n",
       "      <td>1.000000</td>\n",
       "      <td>-0.200000</td>\n",
       "      <td>-0.200000</td>\n",
       "      <td>-0.200000</td>\n",
       "      <td>-0.200000</td>\n",
       "    </tr>\n",
       "    <tr>\n",
       "      <th>Name_chogyel</th>\n",
       "      <td>0.028942</td>\n",
       "      <td>0.369079</td>\n",
       "      <td>0.289637</td>\n",
       "      <td>-0.200000</td>\n",
       "      <td>-0.200000</td>\n",
       "      <td>1.000000</td>\n",
       "      <td>-0.200000</td>\n",
       "      <td>-0.200000</td>\n",
       "      <td>-0.200000</td>\n",
       "    </tr>\n",
       "    <tr>\n",
       "      <th>Name_namgyel</th>\n",
       "      <td>0.341520</td>\n",
       "      <td>0.369079</td>\n",
       "      <td>0.289637</td>\n",
       "      <td>-0.200000</td>\n",
       "      <td>-0.200000</td>\n",
       "      <td>-0.200000</td>\n",
       "      <td>1.000000</td>\n",
       "      <td>-0.200000</td>\n",
       "      <td>-0.200000</td>\n",
       "    </tr>\n",
       "    <tr>\n",
       "      <th>Name_wangmo</th>\n",
       "      <td>-0.353097</td>\n",
       "      <td>-0.259722</td>\n",
       "      <td>-0.589497</td>\n",
       "      <td>-0.200000</td>\n",
       "      <td>-0.200000</td>\n",
       "      <td>-0.200000</td>\n",
       "      <td>-0.200000</td>\n",
       "      <td>1.000000</td>\n",
       "      <td>-0.200000</td>\n",
       "    </tr>\n",
       "    <tr>\n",
       "      <th>Name_yeshey</th>\n",
       "      <td>-0.422559</td>\n",
       "      <td>0.341740</td>\n",
       "      <td>0.064742</td>\n",
       "      <td>-0.200000</td>\n",
       "      <td>-0.200000</td>\n",
       "      <td>-0.200000</td>\n",
       "      <td>-0.200000</td>\n",
       "      <td>-0.200000</td>\n",
       "      <td>1.000000</td>\n",
       "    </tr>\n",
       "  </tbody>\n",
       "</table>\n",
       "</div>"
      ],
      "text/plain": [
       "                   Age  Weigth(Kg)  Heigth(cm)  Name_Dorji  Name_Jigme  \\\n",
       "Age           1.000000    0.375453    0.804255   -0.387828    0.793021   \n",
       "Weigth(Kg)    0.375453    1.000000    0.780898   -0.861184    0.041009   \n",
       "Heigth(cm)    0.804255    0.780898    1.000000   -0.609942    0.555422   \n",
       "Name_Dorji   -0.387828   -0.861184   -0.609942    1.000000   -0.200000   \n",
       "Name_Jigme    0.793021    0.041009    0.555422   -0.200000    1.000000   \n",
       "Name_chogyel  0.028942    0.369079    0.289637   -0.200000   -0.200000   \n",
       "Name_namgyel  0.341520    0.369079    0.289637   -0.200000   -0.200000   \n",
       "Name_wangmo  -0.353097   -0.259722   -0.589497   -0.200000   -0.200000   \n",
       "Name_yeshey  -0.422559    0.341740    0.064742   -0.200000   -0.200000   \n",
       "\n",
       "              Name_chogyel  Name_namgyel  Name_wangmo  Name_yeshey  \n",
       "Age               0.028942      0.341520    -0.353097    -0.422559  \n",
       "Weigth(Kg)        0.369079      0.369079    -0.259722     0.341740  \n",
       "Heigth(cm)        0.289637      0.289637    -0.589497     0.064742  \n",
       "Name_Dorji       -0.200000     -0.200000    -0.200000    -0.200000  \n",
       "Name_Jigme       -0.200000     -0.200000    -0.200000    -0.200000  \n",
       "Name_chogyel      1.000000     -0.200000    -0.200000    -0.200000  \n",
       "Name_namgyel     -0.200000      1.000000    -0.200000    -0.200000  \n",
       "Name_wangmo      -0.200000     -0.200000     1.000000    -0.200000  \n",
       "Name_yeshey      -0.200000     -0.200000    -0.200000     1.000000  "
      ]
     },
     "execution_count": 99,
     "metadata": {},
     "output_type": "execute_result"
    }
   ],
   "source": [
    "df_encoded = pd.get_dummies(df, columns=['Name'])\n",
    "\n",
    "df_encoded.corr(method='pearson') \n"
   ]
  },
  {
   "cell_type": "code",
   "execution_count": 100,
   "id": "79910af3",
   "metadata": {},
   "outputs": [
    {
     "data": {
      "text/plain": [
       "<Axes: >"
      ]
     },
     "execution_count": 100,
     "metadata": {},
     "output_type": "execute_result"
    },
    {
     "data": {
      "image/png": "[encoded data removed]",
      "text/plain": [
       "<Figure size 640x480 with 2 Axes>"
      ]
     },
     "metadata": {},
     "output_type": "display_data"
    }
   ],
   "source": [
    "import seaborn as sns\n",
    "sns.heatmap(df_encoded.corr(method='pearson'),annot=True)"
   ]
  },
  {
   "cell_type": "code",
   "execution_count": null,
   "id": "10e13f91",
   "metadata": {},
   "outputs": [],
   "source": []
  }
 ],
 "metadata": {
  "kernelspec": {
   "display_name": "Python 3 (ipykernel)",
   "language": "python",
   "name": "python3"
  },
  "language_info": {
   "codemirror_mode": {
    "name": "ipython",
    "version": 3
   },
   "file_extension": ".py",
   "mimetype": "text/x-python",
   "name": "python",
   "nbconvert_exporter": "python",
   "pygments_lexer": "ipython3",
   "version": "3.11.4"
  }
 },
 "nbformat": 4,
 "nbformat_minor": 5
}
